{
 "cells": [
  {
   "cell_type": "code",
   "execution_count": 152,
   "id": "8cabc289",
   "metadata": {},
   "outputs": [],
   "source": [
    "from ferry_portfolio_pipeline.config.settings import CONFIG\n",
    "import boto3\n",
    "import io\n",
    "import pandas as pd\n",
    "from io import StringIO\n",
    "import matplotlib.pyplot as plt\n",
    "import joblib\n",
    "\n",
    "bucket = CONFIG[\"s3\"][\"bucket\"]\n",
    "input_key = CONFIG[\"s3\"][\"key\"]\n",
    "output_key = CONFIG[\"s3\"][\"output_key\"]\n",
    "model_key = CONFIG[\"s3\"][\"model_key\"]\n",
    "\n",
    "s3 = boto3.client(\"s3\")\n",
    "obj = s3.get_object(Bucket=bucket, Key=output_key)\n",
    "data = obj['Body'].read().decode('utf-8')\n",
    "df = pd.read_csv(StringIO(data))\n",
    "\n",
    "obj = s3.get_object(Bucket=bucket, Key= model_key)\n",
    "model = joblib.load(io.BytesIO(obj['Body'].read()))\n",
    "\n"
   ]
  },
  {
   "cell_type": "code",
   "execution_count": 153,
   "id": "e6102111",
   "metadata": {},
   "outputs": [],
   "source": [
    "df['Date'] = pd.to_datetime(df['Date'])\n",
    "df_date = df.groupby(['Date']).sum()[['Sales Count','Redemption Count']]\n",
    "df = df_date.resample('ME').sum()[['Sales Count']].reset_index()\n",
    "df = df[df['Date'] >= '2023-01-01']\n"
   ]
  },
  {
   "cell_type": "code",
   "execution_count": 154,
   "id": "61985515",
   "metadata": {},
   "outputs": [
    {
     "name": "stderr",
     "output_type": "stream",
     "text": [
      "g:\\DATASCIENCE\\End_to_End_Project\\DataAnalysis\\Ferry_Forecasting\\ferry\\Lib\\site-packages\\prophet\\forecaster.py:1872: FutureWarning:\n",
      "\n",
      "'M' is deprecated and will be removed in a future version, please use 'ME' instead.\n",
      "\n"
     ]
    }
   ],
   "source": [
    "future = model.make_future_dataframe(periods=len(df), freq='M')\n",
    "forecast = model.predict(future)\n",
    "\n",
    "import pandas as pd\n",
    "\n",
    "# Get first day of next month\n",
    "start_date = (pd.Timestamp.today().replace(day=1) + pd.DateOffset(months=1))\n",
    "\n",
    "# End date is 4 months after start_date\n",
    "end_date = start_date + pd.DateOffset(months=10)\n",
    "\n",
    "# Filter forecast\n",
    "forecast = forecast[(forecast['ds'] >= start_date) & (forecast['ds'] <= end_date)]\n",
    "\n"
   ]
  },
  {
   "cell_type": "code",
   "execution_count": 155,
   "id": "6624eeac",
   "metadata": {},
   "outputs": [
    {
     "data": {
      "application/vnd.plotly.v1+json": {
       "config": {
        "plotlyServerURL": "https://plot.ly"
       },
       "data": [
        {
         "line": {
          "color": "blue",
          "shape": "spline",
          "smoothing": 1.3,
          "width": 2
         },
         "marker": {
          "color": "blue",
          "size": 6
         },
         "mode": "lines+markers+text",
         "name": "Actual Sales",
         "text": {
          "bdata": "AAAAAECb0EAAAAAAwJ/SQAAAAADAD9lAAAAAAPA28EAAAAAAGNwDQQAAAACocwlBAAAAAND1FEEAAAAAVN8UQQAAAABAnQVBAAAAADA480AAAAAAQDPcQAAAAACAj9VAAAAAAABBzUAAAAAAgOLUQAAAAACg8uBAAAAAAEDU5UAAAAAAGL0BQQAAAADgfAlBAAAAALz7E0EAAAAAdIMSQQAAAACQNwJBAAAAAFBN8kAAAAAAgODeQAAAAAAAudBAAAAAAIB1y0AAAAAAgCvQQAAAAACAO9dAAAAAAOBh60AAAAAAIOT8QAAAAADwxg1BAAAAAAifFkEAAAAAeFEIQQ==",
          "dtype": "f8"
         },
         "textfont": {
          "color": "blue",
          "size": 9
         },
         "textposition": "top center",
         "type": "scatter",
         "x": [
          "2023-01-31T00:00:00.000000000",
          "2023-02-28T00:00:00.000000000",
          "2023-03-31T00:00:00.000000000",
          "2023-04-30T00:00:00.000000000",
          "2023-05-31T00:00:00.000000000",
          "2023-06-30T00:00:00.000000000",
          "2023-07-31T00:00:00.000000000",
          "2023-08-31T00:00:00.000000000",
          "2023-09-30T00:00:00.000000000",
          "2023-10-31T00:00:00.000000000",
          "2023-11-30T00:00:00.000000000",
          "2023-12-31T00:00:00.000000000",
          "2024-01-31T00:00:00.000000000",
          "2024-02-29T00:00:00.000000000",
          "2024-03-31T00:00:00.000000000",
          "2024-04-30T00:00:00.000000000",
          "2024-05-31T00:00:00.000000000",
          "2024-06-30T00:00:00.000000000",
          "2024-07-31T00:00:00.000000000",
          "2024-08-31T00:00:00.000000000",
          "2024-09-30T00:00:00.000000000",
          "2024-10-31T00:00:00.000000000",
          "2024-11-30T00:00:00.000000000",
          "2024-12-31T00:00:00.000000000",
          "2025-01-31T00:00:00.000000000",
          "2025-02-28T00:00:00.000000000",
          "2025-03-31T00:00:00.000000000",
          "2025-04-30T00:00:00.000000000",
          "2025-05-31T00:00:00.000000000",
          "2025-06-30T00:00:00.000000000",
          "2025-07-31T00:00:00.000000000",
          "2025-08-31T00:00:00.000000000"
         ],
         "y": {
          "bdata": "bUIAAH9KAAA/ZAAAbwMBAIN7AgB1LgMAdD0FANU3BQCoswIAgzMBAM1wAAA+VgAAgjoAAIpTAACVhwAAoq4AAKM3AgCcLwMA7/4EAN2gBADyRgIA1SQBAIJ7AADkQgAA6zYAAK5AAADuXAAAD9sAAELOAQDeuAMAwqcFAC8KAwA=",
          "dtype": "i4"
         }
        },
        {
         "line": {
          "color": "red",
          "dash": "dot",
          "shape": "spline",
          "smoothing": 1.3,
          "width": 2
         },
         "marker": {
          "color": "red",
          "size": 6
         },
         "mode": "lines+markers+text",
         "name": "Forecast",
         "text": [
          "",
          "211682",
          "115880",
          "65455",
          "35832",
          "29871",
          "34375",
          "63686",
          "112774",
          "278627",
          "386867"
         ],
         "textfont": {
          "color": "red",
          "size": 9
         },
         "textposition": "top center",
         "type": "scatter",
         "x": [
          "2025-08-31T00:00:00",
          "2025-09-30T00:00:00",
          "2025-10-31T00:00:00",
          "2025-11-30T00:00:00",
          "2025-12-31T00:00:00",
          "2026-01-31T00:00:00",
          "2026-02-28T00:00:00",
          "2026-03-31T00:00:00",
          "2026-04-30T00:00:00",
          "2026-05-31T00:00:00",
          "2026-06-30T00:00:00"
         ],
         "y": [
          199215,
          211682.36009951416,
          115880.6567723018,
          65455.031114013924,
          35832.05976151652,
          29871.34397074611,
          34375.62227033039,
          63686.397149314995,
          112774.14192952568,
          278627.0211310068,
          386867.7797957511
         ]
        }
       ],
       "layout": {
        "height": 500,
        "hovermode": "x unified",
        "legend": {
         "bgcolor": "rgba(255,255,255,0.8)",
         "bordercolor": "gray",
         "borderwidth": 1,
         "x": 0.02,
         "y": 0.98
        },
        "margin": {
         "b": 60,
         "l": 60,
         "r": 60,
         "t": 80
        },
        "template": {
         "data": {
          "bar": [
           {
            "error_x": {
             "color": "#2a3f5f"
            },
            "error_y": {
             "color": "#2a3f5f"
            },
            "marker": {
             "line": {
              "color": "white",
              "width": 0.5
             },
             "pattern": {
              "fillmode": "overlay",
              "size": 10,
              "solidity": 0.2
             }
            },
            "type": "bar"
           }
          ],
          "barpolar": [
           {
            "marker": {
             "line": {
              "color": "white",
              "width": 0.5
             },
             "pattern": {
              "fillmode": "overlay",
              "size": 10,
              "solidity": 0.2
             }
            },
            "type": "barpolar"
           }
          ],
          "carpet": [
           {
            "aaxis": {
             "endlinecolor": "#2a3f5f",
             "gridcolor": "#C8D4E3",
             "linecolor": "#C8D4E3",
             "minorgridcolor": "#C8D4E3",
             "startlinecolor": "#2a3f5f"
            },
            "baxis": {
             "endlinecolor": "#2a3f5f",
             "gridcolor": "#C8D4E3",
             "linecolor": "#C8D4E3",
             "minorgridcolor": "#C8D4E3",
             "startlinecolor": "#2a3f5f"
            },
            "type": "carpet"
           }
          ],
          "choropleth": [
           {
            "colorbar": {
             "outlinewidth": 0,
             "ticks": ""
            },
            "type": "choropleth"
           }
          ],
          "contour": [
           {
            "colorbar": {
             "outlinewidth": 0,
             "ticks": ""
            },
            "colorscale": [
             [
              0,
              "#0d0887"
             ],
             [
              0.1111111111111111,
              "#46039f"
             ],
             [
              0.2222222222222222,
              "#7201a8"
             ],
             [
              0.3333333333333333,
              "#9c179e"
             ],
             [
              0.4444444444444444,
              "#bd3786"
             ],
             [
              0.5555555555555556,
              "#d8576b"
             ],
             [
              0.6666666666666666,
              "#ed7953"
             ],
             [
              0.7777777777777778,
              "#fb9f3a"
             ],
             [
              0.8888888888888888,
              "#fdca26"
             ],
             [
              1,
              "#f0f921"
             ]
            ],
            "type": "contour"
           }
          ],
          "contourcarpet": [
           {
            "colorbar": {
             "outlinewidth": 0,
             "ticks": ""
            },
            "type": "contourcarpet"
           }
          ],
          "heatmap": [
           {
            "colorbar": {
             "outlinewidth": 0,
             "ticks": ""
            },
            "colorscale": [
             [
              0,
              "#0d0887"
             ],
             [
              0.1111111111111111,
              "#46039f"
             ],
             [
              0.2222222222222222,
              "#7201a8"
             ],
             [
              0.3333333333333333,
              "#9c179e"
             ],
             [
              0.4444444444444444,
              "#bd3786"
             ],
             [
              0.5555555555555556,
              "#d8576b"
             ],
             [
              0.6666666666666666,
              "#ed7953"
             ],
             [
              0.7777777777777778,
              "#fb9f3a"
             ],
             [
              0.8888888888888888,
              "#fdca26"
             ],
             [
              1,
              "#f0f921"
             ]
            ],
            "type": "heatmap"
           }
          ],
          "histogram": [
           {
            "marker": {
             "pattern": {
              "fillmode": "overlay",
              "size": 10,
              "solidity": 0.2
             }
            },
            "type": "histogram"
           }
          ],
          "histogram2d": [
           {
            "colorbar": {
             "outlinewidth": 0,
             "ticks": ""
            },
            "colorscale": [
             [
              0,
              "#0d0887"
             ],
             [
              0.1111111111111111,
              "#46039f"
             ],
             [
              0.2222222222222222,
              "#7201a8"
             ],
             [
              0.3333333333333333,
              "#9c179e"
             ],
             [
              0.4444444444444444,
              "#bd3786"
             ],
             [
              0.5555555555555556,
              "#d8576b"
             ],
             [
              0.6666666666666666,
              "#ed7953"
             ],
             [
              0.7777777777777778,
              "#fb9f3a"
             ],
             [
              0.8888888888888888,
              "#fdca26"
             ],
             [
              1,
              "#f0f921"
             ]
            ],
            "type": "histogram2d"
           }
          ],
          "histogram2dcontour": [
           {
            "colorbar": {
             "outlinewidth": 0,
             "ticks": ""
            },
            "colorscale": [
             [
              0,
              "#0d0887"
             ],
             [
              0.1111111111111111,
              "#46039f"
             ],
             [
              0.2222222222222222,
              "#7201a8"
             ],
             [
              0.3333333333333333,
              "#9c179e"
             ],
             [
              0.4444444444444444,
              "#bd3786"
             ],
             [
              0.5555555555555556,
              "#d8576b"
             ],
             [
              0.6666666666666666,
              "#ed7953"
             ],
             [
              0.7777777777777778,
              "#fb9f3a"
             ],
             [
              0.8888888888888888,
              "#fdca26"
             ],
             [
              1,
              "#f0f921"
             ]
            ],
            "type": "histogram2dcontour"
           }
          ],
          "mesh3d": [
           {
            "colorbar": {
             "outlinewidth": 0,
             "ticks": ""
            },
            "type": "mesh3d"
           }
          ],
          "parcoords": [
           {
            "line": {
             "colorbar": {
              "outlinewidth": 0,
              "ticks": ""
             }
            },
            "type": "parcoords"
           }
          ],
          "pie": [
           {
            "automargin": true,
            "type": "pie"
           }
          ],
          "scatter": [
           {
            "fillpattern": {
             "fillmode": "overlay",
             "size": 10,
             "solidity": 0.2
            },
            "type": "scatter"
           }
          ],
          "scatter3d": [
           {
            "line": {
             "colorbar": {
              "outlinewidth": 0,
              "ticks": ""
             }
            },
            "marker": {
             "colorbar": {
              "outlinewidth": 0,
              "ticks": ""
             }
            },
            "type": "scatter3d"
           }
          ],
          "scattercarpet": [
           {
            "marker": {
             "colorbar": {
              "outlinewidth": 0,
              "ticks": ""
             }
            },
            "type": "scattercarpet"
           }
          ],
          "scattergeo": [
           {
            "marker": {
             "colorbar": {
              "outlinewidth": 0,
              "ticks": ""
             }
            },
            "type": "scattergeo"
           }
          ],
          "scattergl": [
           {
            "marker": {
             "colorbar": {
              "outlinewidth": 0,
              "ticks": ""
             }
            },
            "type": "scattergl"
           }
          ],
          "scattermap": [
           {
            "marker": {
             "colorbar": {
              "outlinewidth": 0,
              "ticks": ""
             }
            },
            "type": "scattermap"
           }
          ],
          "scattermapbox": [
           {
            "marker": {
             "colorbar": {
              "outlinewidth": 0,
              "ticks": ""
             }
            },
            "type": "scattermapbox"
           }
          ],
          "scatterpolar": [
           {
            "marker": {
             "colorbar": {
              "outlinewidth": 0,
              "ticks": ""
             }
            },
            "type": "scatterpolar"
           }
          ],
          "scatterpolargl": [
           {
            "marker": {
             "colorbar": {
              "outlinewidth": 0,
              "ticks": ""
             }
            },
            "type": "scatterpolargl"
           }
          ],
          "scatterternary": [
           {
            "marker": {
             "colorbar": {
              "outlinewidth": 0,
              "ticks": ""
             }
            },
            "type": "scatterternary"
           }
          ],
          "surface": [
           {
            "colorbar": {
             "outlinewidth": 0,
             "ticks": ""
            },
            "colorscale": [
             [
              0,
              "#0d0887"
             ],
             [
              0.1111111111111111,
              "#46039f"
             ],
             [
              0.2222222222222222,
              "#7201a8"
             ],
             [
              0.3333333333333333,
              "#9c179e"
             ],
             [
              0.4444444444444444,
              "#bd3786"
             ],
             [
              0.5555555555555556,
              "#d8576b"
             ],
             [
              0.6666666666666666,
              "#ed7953"
             ],
             [
              0.7777777777777778,
              "#fb9f3a"
             ],
             [
              0.8888888888888888,
              "#fdca26"
             ],
             [
              1,
              "#f0f921"
             ]
            ],
            "type": "surface"
           }
          ],
          "table": [
           {
            "cells": {
             "fill": {
              "color": "#EBF0F8"
             },
             "line": {
              "color": "white"
             }
            },
            "header": {
             "fill": {
              "color": "#C8D4E3"
             },
             "line": {
              "color": "white"
             }
            },
            "type": "table"
           }
          ]
         },
         "layout": {
          "annotationdefaults": {
           "arrowcolor": "#2a3f5f",
           "arrowhead": 0,
           "arrowwidth": 1
          },
          "autotypenumbers": "strict",
          "coloraxis": {
           "colorbar": {
            "outlinewidth": 0,
            "ticks": ""
           }
          },
          "colorscale": {
           "diverging": [
            [
             0,
             "#8e0152"
            ],
            [
             0.1,
             "#c51b7d"
            ],
            [
             0.2,
             "#de77ae"
            ],
            [
             0.3,
             "#f1b6da"
            ],
            [
             0.4,
             "#fde0ef"
            ],
            [
             0.5,
             "#f7f7f7"
            ],
            [
             0.6,
             "#e6f5d0"
            ],
            [
             0.7,
             "#b8e186"
            ],
            [
             0.8,
             "#7fbc41"
            ],
            [
             0.9,
             "#4d9221"
            ],
            [
             1,
             "#276419"
            ]
           ],
           "sequential": [
            [
             0,
             "#0d0887"
            ],
            [
             0.1111111111111111,
             "#46039f"
            ],
            [
             0.2222222222222222,
             "#7201a8"
            ],
            [
             0.3333333333333333,
             "#9c179e"
            ],
            [
             0.4444444444444444,
             "#bd3786"
            ],
            [
             0.5555555555555556,
             "#d8576b"
            ],
            [
             0.6666666666666666,
             "#ed7953"
            ],
            [
             0.7777777777777778,
             "#fb9f3a"
            ],
            [
             0.8888888888888888,
             "#fdca26"
            ],
            [
             1,
             "#f0f921"
            ]
           ],
           "sequentialminus": [
            [
             0,
             "#0d0887"
            ],
            [
             0.1111111111111111,
             "#46039f"
            ],
            [
             0.2222222222222222,
             "#7201a8"
            ],
            [
             0.3333333333333333,
             "#9c179e"
            ],
            [
             0.4444444444444444,
             "#bd3786"
            ],
            [
             0.5555555555555556,
             "#d8576b"
            ],
            [
             0.6666666666666666,
             "#ed7953"
            ],
            [
             0.7777777777777778,
             "#fb9f3a"
            ],
            [
             0.8888888888888888,
             "#fdca26"
            ],
            [
             1,
             "#f0f921"
            ]
           ]
          },
          "colorway": [
           "#636efa",
           "#EF553B",
           "#00cc96",
           "#ab63fa",
           "#FFA15A",
           "#19d3f3",
           "#FF6692",
           "#B6E880",
           "#FF97FF",
           "#FECB52"
          ],
          "font": {
           "color": "#2a3f5f"
          },
          "geo": {
           "bgcolor": "white",
           "lakecolor": "white",
           "landcolor": "white",
           "showlakes": true,
           "showland": true,
           "subunitcolor": "#C8D4E3"
          },
          "hoverlabel": {
           "align": "left"
          },
          "hovermode": "closest",
          "mapbox": {
           "style": "light"
          },
          "paper_bgcolor": "white",
          "plot_bgcolor": "white",
          "polar": {
           "angularaxis": {
            "gridcolor": "#EBF0F8",
            "linecolor": "#EBF0F8",
            "ticks": ""
           },
           "bgcolor": "white",
           "radialaxis": {
            "gridcolor": "#EBF0F8",
            "linecolor": "#EBF0F8",
            "ticks": ""
           }
          },
          "scene": {
           "xaxis": {
            "backgroundcolor": "white",
            "gridcolor": "#DFE8F3",
            "gridwidth": 2,
            "linecolor": "#EBF0F8",
            "showbackground": true,
            "ticks": "",
            "zerolinecolor": "#EBF0F8"
           },
           "yaxis": {
            "backgroundcolor": "white",
            "gridcolor": "#DFE8F3",
            "gridwidth": 2,
            "linecolor": "#EBF0F8",
            "showbackground": true,
            "ticks": "",
            "zerolinecolor": "#EBF0F8"
           },
           "zaxis": {
            "backgroundcolor": "white",
            "gridcolor": "#DFE8F3",
            "gridwidth": 2,
            "linecolor": "#EBF0F8",
            "showbackground": true,
            "ticks": "",
            "zerolinecolor": "#EBF0F8"
           }
          },
          "shapedefaults": {
           "line": {
            "color": "#2a3f5f"
           }
          },
          "ternary": {
           "aaxis": {
            "gridcolor": "#DFE8F3",
            "linecolor": "#A2B1C6",
            "ticks": ""
           },
           "baxis": {
            "gridcolor": "#DFE8F3",
            "linecolor": "#A2B1C6",
            "ticks": ""
           },
           "bgcolor": "white",
           "caxis": {
            "gridcolor": "#DFE8F3",
            "linecolor": "#A2B1C6",
            "ticks": ""
           }
          },
          "title": {
           "x": 0.05
          },
          "xaxis": {
           "automargin": true,
           "gridcolor": "#EBF0F8",
           "linecolor": "#EBF0F8",
           "ticks": "",
           "title": {
            "standoff": 15
           },
           "zerolinecolor": "#EBF0F8",
           "zerolinewidth": 2
          },
          "yaxis": {
           "automargin": true,
           "gridcolor": "#EBF0F8",
           "linecolor": "#EBF0F8",
           "ticks": "",
           "title": {
            "standoff": 15
           },
           "zerolinecolor": "#EBF0F8",
           "zerolinewidth": 2
          }
         }
        },
        "title": {
         "text": "Ferry Sales Forecast"
        },
        "xaxis": {
         "gridcolor": "lightgray",
         "gridwidth": 0.5,
         "showgrid": true,
         "tickangle": 45,
         "tickmode": "array",
         "ticktext": [
          "Jan 2023",
          "Feb 2023",
          "Mar 2023",
          "Apr 2023",
          "May 2023",
          "Jun 2023",
          "Jul 2023",
          "Aug 2023",
          "Sep 2023",
          "Oct 2023",
          "Nov 2023",
          "Dec 2023",
          "Jan 2024",
          "Feb 2024",
          "Mar 2024",
          "Apr 2024",
          "May 2024",
          "Jun 2024",
          "Jul 2024",
          "Aug 2024",
          "Sep 2024",
          "Oct 2024",
          "Nov 2024",
          "Dec 2024",
          "Jan 2025",
          "Feb 2025",
          "Mar 2025",
          "Apr 2025",
          "May 2025",
          "Jun 2025",
          "Jul 2025",
          "Aug 2025",
          "Sep 2025",
          "Oct 2025",
          "Nov 2025",
          "Dec 2025",
          "Jan 2026",
          "Feb 2026",
          "Mar 2026",
          "Apr 2026",
          "May 2026",
          "Jun 2026"
         ],
         "tickvals": [
          "2023-01-31T00:00:00",
          "2023-02-28T00:00:00",
          "2023-03-31T00:00:00",
          "2023-04-30T00:00:00",
          "2023-05-31T00:00:00",
          "2023-06-30T00:00:00",
          "2023-07-31T00:00:00",
          "2023-08-31T00:00:00",
          "2023-09-30T00:00:00",
          "2023-10-31T00:00:00",
          "2023-11-30T00:00:00",
          "2023-12-31T00:00:00",
          "2024-01-31T00:00:00",
          "2024-02-29T00:00:00",
          "2024-03-31T00:00:00",
          "2024-04-30T00:00:00",
          "2024-05-31T00:00:00",
          "2024-06-30T00:00:00",
          "2024-07-31T00:00:00",
          "2024-08-31T00:00:00",
          "2024-09-30T00:00:00",
          "2024-10-31T00:00:00",
          "2024-11-30T00:00:00",
          "2024-12-31T00:00:00",
          "2025-01-31T00:00:00",
          "2025-02-28T00:00:00",
          "2025-03-31T00:00:00",
          "2025-04-30T00:00:00",
          "2025-05-31T00:00:00",
          "2025-06-30T00:00:00",
          "2025-07-31T00:00:00",
          "2025-08-31T00:00:00",
          "2025-09-30T00:00:00",
          "2025-10-31T00:00:00",
          "2025-11-30T00:00:00",
          "2025-12-31T00:00:00",
          "2026-01-31T00:00:00",
          "2026-02-28T00:00:00",
          "2026-03-31T00:00:00",
          "2026-04-30T00:00:00",
          "2026-05-31T00:00:00",
          "2026-06-30T00:00:00"
         ],
         "title": {
          "text": "Date"
         }
        },
        "yaxis": {
         "gridcolor": "lightgray",
         "gridwidth": 0.5,
         "showgrid": true,
         "title": {
          "text": "Sales Count"
         }
        }
       }
      }
     },
     "metadata": {},
     "output_type": "display_data"
    }
   ],
   "source": [
    "import pandas as pd\n",
    "import plotly.graph_objects as go\n",
    "\n",
    "# Create the figure\n",
    "fig = go.Figure()\n",
    "\n",
    "# Plot actual sales with smooth line\n",
    "fig.add_trace(go.Scatter(\n",
    "    x=df['Date'],\n",
    "    y=df['Sales Count'],\n",
    "    mode='lines+markers+text',\n",
    "    text=df['Sales Count'],\n",
    "    textposition='top center',\n",
    "    textfont=dict(size=9, color='blue'),\n",
    "    name='Actual Sales',\n",
    "    line=dict(color='blue', width=2, shape='spline', smoothing=1.3),\n",
    "    marker=dict(size=6, color='blue')\n",
    "))\n",
    "\n",
    "# Create a seamless connection by starting forecast from the last actual data point\n",
    "last_actual_date = df['Date'].iloc[-1]\n",
    "last_actual_value = df['Sales Count'].iloc[-1]\n",
    "\n",
    "# Combine last actual point with forecast for smooth transition\n",
    "forecast_dates = [last_actual_date] + list(forecast['ds'])\n",
    "forecast_values = [last_actual_value] + list(forecast['yhat'])\n",
    "\n",
    "# Plot forecast sales with dotted line\n",
    "fig.add_trace(go.Scatter(\n",
    "    x=forecast_dates,\n",
    "    y=forecast_values,\n",
    "    mode='lines+markers+text',\n",
    "    text=[''] + [f\"{int(val)}\" for val in forecast['yhat']],  # Empty text for connecting point\n",
    "    textposition='top center',\n",
    "    textfont=dict(size=9, color='red'),\n",
    "    name='Forecast',\n",
    "    line=dict(color='red', width=2, dash='dot', shape='spline', smoothing=1.3),\n",
    "    marker=dict(size=6, color='red')\n",
    "))\n",
    "\n",
    "# Combine all dates for x-axis ticks\n",
    "all_dates = list(df['Date']) + list(forecast['ds'])\n",
    "\n",
    "# Update layout for better appearance\n",
    "fig.update_layout(\n",
    "    title='Ferry Sales Forecast',\n",
    "    xaxis_title='Date',\n",
    "    yaxis_title='Sales Count',\n",
    "    template='plotly_white',\n",
    "    height=500,  # Increase height to give more space for labels\n",
    "    margin=dict(t=80, b=60, l=60, r=60),  # Add margins for text labels\n",
    "    xaxis=dict(\n",
    "        tickmode='array',\n",
    "        tickvals=all_dates,  \n",
    "        ticktext=[d.strftime('%b %Y') for d in all_dates],\n",
    "        tickangle=45\n",
    "    ),\n",
    "    yaxis=dict(\n",
    "        gridcolor='lightgray',\n",
    "        gridwidth=0.5\n",
    "    ),\n",
    "    legend=dict(\n",
    "        x=0.02,\n",
    "        y=0.98,\n",
    "        bgcolor='rgba(255,255,255,0.8)',\n",
    "        bordercolor='gray',\n",
    "        borderwidth=1\n",
    "    ),\n",
    "    hovermode='x unified'\n",
    ")\n",
    "\n",
    "# Add a subtle background grid\n",
    "fig.update_yaxes(showgrid=True, gridwidth=0.5, gridcolor='lightgray')\n",
    "fig.update_xaxes(showgrid=True, gridwidth=0.5, gridcolor='lightgray')\n",
    "\n",
    "fig.show()"
   ]
  },
  {
   "cell_type": "code",
   "execution_count": 156,
   "id": "a0bdd286",
   "metadata": {},
   "outputs": [
    {
     "data": {
      "application/vnd.plotly.v1+json": {
       "config": {
        "plotlyServerURL": "https://plot.ly"
       },
       "data": [
        {
         "line": {
          "color": "blue",
          "shape": "spline",
          "smoothing": 1.3,
          "width": 2
         },
         "marker": {
          "color": "blue",
          "size": 6
         },
         "mode": "lines+markers+text",
         "name": "Actual Revenue",
         "text": [
          "$136,040",
          "$152,568",
          "$205,304",
          "$531,320",
          "$1,301,528",
          "$1,668,008",
          "$2,747,296",
          "$2,735,784",
          "$1,416,512",
          "$629,784",
          "$231,016",
          "$176,624",
          "$119,824",
          "$171,088",
          "$277,672",
          "$357,648",
          "$1,162,520",
          "$1,670,368",
          "$2,619,256",
          "$2,426,600",
          "$1,193,872",
          "$599,720",
          "$252,944",
          "$136,992",
          "$112,472",
          "$132,464",
          "$190,320",
          "$448,632",
          "$946,704",
          "$1,951,472",
          "$2,965,008",
          "$1,593,720"
         ],
         "textfont": {
          "color": "blue",
          "size": 9
         },
         "textposition": "top center",
         "type": "scatter",
         "x": [
          "2023-01-31T00:00:00.000000000",
          "2023-02-28T00:00:00.000000000",
          "2023-03-31T00:00:00.000000000",
          "2023-04-30T00:00:00.000000000",
          "2023-05-31T00:00:00.000000000",
          "2023-06-30T00:00:00.000000000",
          "2023-07-31T00:00:00.000000000",
          "2023-08-31T00:00:00.000000000",
          "2023-09-30T00:00:00.000000000",
          "2023-10-31T00:00:00.000000000",
          "2023-11-30T00:00:00.000000000",
          "2023-12-31T00:00:00.000000000",
          "2024-01-31T00:00:00.000000000",
          "2024-02-29T00:00:00.000000000",
          "2024-03-31T00:00:00.000000000",
          "2024-04-30T00:00:00.000000000",
          "2024-05-31T00:00:00.000000000",
          "2024-06-30T00:00:00.000000000",
          "2024-07-31T00:00:00.000000000",
          "2024-08-31T00:00:00.000000000",
          "2024-09-30T00:00:00.000000000",
          "2024-10-31T00:00:00.000000000",
          "2024-11-30T00:00:00.000000000",
          "2024-12-31T00:00:00.000000000",
          "2025-01-31T00:00:00.000000000",
          "2025-02-28T00:00:00.000000000",
          "2025-03-31T00:00:00.000000000",
          "2025-04-30T00:00:00.000000000",
          "2025-05-31T00:00:00.000000000",
          "2025-06-30T00:00:00.000000000",
          "2025-07-31T00:00:00.000000000",
          "2025-08-31T00:00:00.000000000"
         ],
         "y": {
          "bdata": "AAAAAECbAEEAAAAAwJ8CQQAAAADADwlBAAAAAPA2IEEAAAAAGNwzQQAAAACoczlBAAAAAND1REEAAAAAVN9EQQAAAABAnTVBAAAAADA4I0EAAAAAQDMMQQAAAACAjwVBAAAAAABB/UAAAAAAgOIEQQAAAACg8hBBAAAAAEDUFUEAAAAAGL0xQQAAAADgfDlBAAAAALz7Q0EAAAAAdINCQQAAAACQNzJBAAAAAFBNIkEAAAAAgOAOQQAAAAAAuQBBAAAAAIB1+0AAAAAAgCsAQQAAAACAOwdBAAAAAOBhG0EAAAAAIOQsQQAAAADwxj1BAAAAAAifRkEAAAAAeFE4QQ==",
          "dtype": "f8"
         }
        },
        {
         "line": {
          "color": "red",
          "dash": "dot",
          "shape": "spline",
          "smoothing": 1.3,
          "width": 2
         },
         "marker": {
          "color": "red",
          "size": 6
         },
         "mode": "lines+markers+text",
         "name": "Forecast Revenue",
         "text": [
          "",
          "$1,693,458",
          "$927,045",
          "$523,640",
          "$286,656",
          "$238,970",
          "$275,004",
          "$509,491",
          "$902,193",
          "$2,229,016",
          "$3,094,942"
         ],
         "textfont": {
          "color": "red",
          "size": 9
         },
         "textposition": "top center",
         "type": "scatter",
         "x": [
          "2025-08-31T00:00:00",
          "2025-09-30T00:00:00",
          "2025-10-31T00:00:00",
          "2025-11-30T00:00:00",
          "2025-12-31T00:00:00",
          "2026-01-31T00:00:00",
          "2026-02-28T00:00:00",
          "2026-03-31T00:00:00",
          "2026-04-30T00:00:00",
          "2026-05-31T00:00:00",
          "2026-06-30T00:00:00"
         ],
         "y": [
          1593720,
          1693458.8807961133,
          927045.2541784144,
          523640.2489121114,
          286656.47809213214,
          238970.7517659689,
          275004.9781626431,
          509491.17719451996,
          902193.1354362054,
          2229016.1690480546,
          3094942.2383660087
         ]
        }
       ],
       "layout": {
        "height": 500,
        "hovermode": "x unified",
        "legend": {
         "bgcolor": "rgba(255,255,255,0.8)",
         "bordercolor": "gray",
         "borderwidth": 1,
         "x": 0.02,
         "y": 0.98
        },
        "margin": {
         "b": 60,
         "l": 60,
         "r": 60,
         "t": 80
        },
        "template": {
         "data": {
          "bar": [
           {
            "error_x": {
             "color": "#2a3f5f"
            },
            "error_y": {
             "color": "#2a3f5f"
            },
            "marker": {
             "line": {
              "color": "white",
              "width": 0.5
             },
             "pattern": {
              "fillmode": "overlay",
              "size": 10,
              "solidity": 0.2
             }
            },
            "type": "bar"
           }
          ],
          "barpolar": [
           {
            "marker": {
             "line": {
              "color": "white",
              "width": 0.5
             },
             "pattern": {
              "fillmode": "overlay",
              "size": 10,
              "solidity": 0.2
             }
            },
            "type": "barpolar"
           }
          ],
          "carpet": [
           {
            "aaxis": {
             "endlinecolor": "#2a3f5f",
             "gridcolor": "#C8D4E3",
             "linecolor": "#C8D4E3",
             "minorgridcolor": "#C8D4E3",
             "startlinecolor": "#2a3f5f"
            },
            "baxis": {
             "endlinecolor": "#2a3f5f",
             "gridcolor": "#C8D4E3",
             "linecolor": "#C8D4E3",
             "minorgridcolor": "#C8D4E3",
             "startlinecolor": "#2a3f5f"
            },
            "type": "carpet"
           }
          ],
          "choropleth": [
           {
            "colorbar": {
             "outlinewidth": 0,
             "ticks": ""
            },
            "type": "choropleth"
           }
          ],
          "contour": [
           {
            "colorbar": {
             "outlinewidth": 0,
             "ticks": ""
            },
            "colorscale": [
             [
              0,
              "#0d0887"
             ],
             [
              0.1111111111111111,
              "#46039f"
             ],
             [
              0.2222222222222222,
              "#7201a8"
             ],
             [
              0.3333333333333333,
              "#9c179e"
             ],
             [
              0.4444444444444444,
              "#bd3786"
             ],
             [
              0.5555555555555556,
              "#d8576b"
             ],
             [
              0.6666666666666666,
              "#ed7953"
             ],
             [
              0.7777777777777778,
              "#fb9f3a"
             ],
             [
              0.8888888888888888,
              "#fdca26"
             ],
             [
              1,
              "#f0f921"
             ]
            ],
            "type": "contour"
           }
          ],
          "contourcarpet": [
           {
            "colorbar": {
             "outlinewidth": 0,
             "ticks": ""
            },
            "type": "contourcarpet"
           }
          ],
          "heatmap": [
           {
            "colorbar": {
             "outlinewidth": 0,
             "ticks": ""
            },
            "colorscale": [
             [
              0,
              "#0d0887"
             ],
             [
              0.1111111111111111,
              "#46039f"
             ],
             [
              0.2222222222222222,
              "#7201a8"
             ],
             [
              0.3333333333333333,
              "#9c179e"
             ],
             [
              0.4444444444444444,
              "#bd3786"
             ],
             [
              0.5555555555555556,
              "#d8576b"
             ],
             [
              0.6666666666666666,
              "#ed7953"
             ],
             [
              0.7777777777777778,
              "#fb9f3a"
             ],
             [
              0.8888888888888888,
              "#fdca26"
             ],
             [
              1,
              "#f0f921"
             ]
            ],
            "type": "heatmap"
           }
          ],
          "histogram": [
           {
            "marker": {
             "pattern": {
              "fillmode": "overlay",
              "size": 10,
              "solidity": 0.2
             }
            },
            "type": "histogram"
           }
          ],
          "histogram2d": [
           {
            "colorbar": {
             "outlinewidth": 0,
             "ticks": ""
            },
            "colorscale": [
             [
              0,
              "#0d0887"
             ],
             [
              0.1111111111111111,
              "#46039f"
             ],
             [
              0.2222222222222222,
              "#7201a8"
             ],
             [
              0.3333333333333333,
              "#9c179e"
             ],
             [
              0.4444444444444444,
              "#bd3786"
             ],
             [
              0.5555555555555556,
              "#d8576b"
             ],
             [
              0.6666666666666666,
              "#ed7953"
             ],
             [
              0.7777777777777778,
              "#fb9f3a"
             ],
             [
              0.8888888888888888,
              "#fdca26"
             ],
             [
              1,
              "#f0f921"
             ]
            ],
            "type": "histogram2d"
           }
          ],
          "histogram2dcontour": [
           {
            "colorbar": {
             "outlinewidth": 0,
             "ticks": ""
            },
            "colorscale": [
             [
              0,
              "#0d0887"
             ],
             [
              0.1111111111111111,
              "#46039f"
             ],
             [
              0.2222222222222222,
              "#7201a8"
             ],
             [
              0.3333333333333333,
              "#9c179e"
             ],
             [
              0.4444444444444444,
              "#bd3786"
             ],
             [
              0.5555555555555556,
              "#d8576b"
             ],
             [
              0.6666666666666666,
              "#ed7953"
             ],
             [
              0.7777777777777778,
              "#fb9f3a"
             ],
             [
              0.8888888888888888,
              "#fdca26"
             ],
             [
              1,
              "#f0f921"
             ]
            ],
            "type": "histogram2dcontour"
           }
          ],
          "mesh3d": [
           {
            "colorbar": {
             "outlinewidth": 0,
             "ticks": ""
            },
            "type": "mesh3d"
           }
          ],
          "parcoords": [
           {
            "line": {
             "colorbar": {
              "outlinewidth": 0,
              "ticks": ""
             }
            },
            "type": "parcoords"
           }
          ],
          "pie": [
           {
            "automargin": true,
            "type": "pie"
           }
          ],
          "scatter": [
           {
            "fillpattern": {
             "fillmode": "overlay",
             "size": 10,
             "solidity": 0.2
            },
            "type": "scatter"
           }
          ],
          "scatter3d": [
           {
            "line": {
             "colorbar": {
              "outlinewidth": 0,
              "ticks": ""
             }
            },
            "marker": {
             "colorbar": {
              "outlinewidth": 0,
              "ticks": ""
             }
            },
            "type": "scatter3d"
           }
          ],
          "scattercarpet": [
           {
            "marker": {
             "colorbar": {
              "outlinewidth": 0,
              "ticks": ""
             }
            },
            "type": "scattercarpet"
           }
          ],
          "scattergeo": [
           {
            "marker": {
             "colorbar": {
              "outlinewidth": 0,
              "ticks": ""
             }
            },
            "type": "scattergeo"
           }
          ],
          "scattergl": [
           {
            "marker": {
             "colorbar": {
              "outlinewidth": 0,
              "ticks": ""
             }
            },
            "type": "scattergl"
           }
          ],
          "scattermap": [
           {
            "marker": {
             "colorbar": {
              "outlinewidth": 0,
              "ticks": ""
             }
            },
            "type": "scattermap"
           }
          ],
          "scattermapbox": [
           {
            "marker": {
             "colorbar": {
              "outlinewidth": 0,
              "ticks": ""
             }
            },
            "type": "scattermapbox"
           }
          ],
          "scatterpolar": [
           {
            "marker": {
             "colorbar": {
              "outlinewidth": 0,
              "ticks": ""
             }
            },
            "type": "scatterpolar"
           }
          ],
          "scatterpolargl": [
           {
            "marker": {
             "colorbar": {
              "outlinewidth": 0,
              "ticks": ""
             }
            },
            "type": "scatterpolargl"
           }
          ],
          "scatterternary": [
           {
            "marker": {
             "colorbar": {
              "outlinewidth": 0,
              "ticks": ""
             }
            },
            "type": "scatterternary"
           }
          ],
          "surface": [
           {
            "colorbar": {
             "outlinewidth": 0,
             "ticks": ""
            },
            "colorscale": [
             [
              0,
              "#0d0887"
             ],
             [
              0.1111111111111111,
              "#46039f"
             ],
             [
              0.2222222222222222,
              "#7201a8"
             ],
             [
              0.3333333333333333,
              "#9c179e"
             ],
             [
              0.4444444444444444,
              "#bd3786"
             ],
             [
              0.5555555555555556,
              "#d8576b"
             ],
             [
              0.6666666666666666,
              "#ed7953"
             ],
             [
              0.7777777777777778,
              "#fb9f3a"
             ],
             [
              0.8888888888888888,
              "#fdca26"
             ],
             [
              1,
              "#f0f921"
             ]
            ],
            "type": "surface"
           }
          ],
          "table": [
           {
            "cells": {
             "fill": {
              "color": "#EBF0F8"
             },
             "line": {
              "color": "white"
             }
            },
            "header": {
             "fill": {
              "color": "#C8D4E3"
             },
             "line": {
              "color": "white"
             }
            },
            "type": "table"
           }
          ]
         },
         "layout": {
          "annotationdefaults": {
           "arrowcolor": "#2a3f5f",
           "arrowhead": 0,
           "arrowwidth": 1
          },
          "autotypenumbers": "strict",
          "coloraxis": {
           "colorbar": {
            "outlinewidth": 0,
            "ticks": ""
           }
          },
          "colorscale": {
           "diverging": [
            [
             0,
             "#8e0152"
            ],
            [
             0.1,
             "#c51b7d"
            ],
            [
             0.2,
             "#de77ae"
            ],
            [
             0.3,
             "#f1b6da"
            ],
            [
             0.4,
             "#fde0ef"
            ],
            [
             0.5,
             "#f7f7f7"
            ],
            [
             0.6,
             "#e6f5d0"
            ],
            [
             0.7,
             "#b8e186"
            ],
            [
             0.8,
             "#7fbc41"
            ],
            [
             0.9,
             "#4d9221"
            ],
            [
             1,
             "#276419"
            ]
           ],
           "sequential": [
            [
             0,
             "#0d0887"
            ],
            [
             0.1111111111111111,
             "#46039f"
            ],
            [
             0.2222222222222222,
             "#7201a8"
            ],
            [
             0.3333333333333333,
             "#9c179e"
            ],
            [
             0.4444444444444444,
             "#bd3786"
            ],
            [
             0.5555555555555556,
             "#d8576b"
            ],
            [
             0.6666666666666666,
             "#ed7953"
            ],
            [
             0.7777777777777778,
             "#fb9f3a"
            ],
            [
             0.8888888888888888,
             "#fdca26"
            ],
            [
             1,
             "#f0f921"
            ]
           ],
           "sequentialminus": [
            [
             0,
             "#0d0887"
            ],
            [
             0.1111111111111111,
             "#46039f"
            ],
            [
             0.2222222222222222,
             "#7201a8"
            ],
            [
             0.3333333333333333,
             "#9c179e"
            ],
            [
             0.4444444444444444,
             "#bd3786"
            ],
            [
             0.5555555555555556,
             "#d8576b"
            ],
            [
             0.6666666666666666,
             "#ed7953"
            ],
            [
             0.7777777777777778,
             "#fb9f3a"
            ],
            [
             0.8888888888888888,
             "#fdca26"
            ],
            [
             1,
             "#f0f921"
            ]
           ]
          },
          "colorway": [
           "#636efa",
           "#EF553B",
           "#00cc96",
           "#ab63fa",
           "#FFA15A",
           "#19d3f3",
           "#FF6692",
           "#B6E880",
           "#FF97FF",
           "#FECB52"
          ],
          "font": {
           "color": "#2a3f5f"
          },
          "geo": {
           "bgcolor": "white",
           "lakecolor": "white",
           "landcolor": "white",
           "showlakes": true,
           "showland": true,
           "subunitcolor": "#C8D4E3"
          },
          "hoverlabel": {
           "align": "left"
          },
          "hovermode": "closest",
          "mapbox": {
           "style": "light"
          },
          "paper_bgcolor": "white",
          "plot_bgcolor": "white",
          "polar": {
           "angularaxis": {
            "gridcolor": "#EBF0F8",
            "linecolor": "#EBF0F8",
            "ticks": ""
           },
           "bgcolor": "white",
           "radialaxis": {
            "gridcolor": "#EBF0F8",
            "linecolor": "#EBF0F8",
            "ticks": ""
           }
          },
          "scene": {
           "xaxis": {
            "backgroundcolor": "white",
            "gridcolor": "#DFE8F3",
            "gridwidth": 2,
            "linecolor": "#EBF0F8",
            "showbackground": true,
            "ticks": "",
            "zerolinecolor": "#EBF0F8"
           },
           "yaxis": {
            "backgroundcolor": "white",
            "gridcolor": "#DFE8F3",
            "gridwidth": 2,
            "linecolor": "#EBF0F8",
            "showbackground": true,
            "ticks": "",
            "zerolinecolor": "#EBF0F8"
           },
           "zaxis": {
            "backgroundcolor": "white",
            "gridcolor": "#DFE8F3",
            "gridwidth": 2,
            "linecolor": "#EBF0F8",
            "showbackground": true,
            "ticks": "",
            "zerolinecolor": "#EBF0F8"
           }
          },
          "shapedefaults": {
           "line": {
            "color": "#2a3f5f"
           }
          },
          "ternary": {
           "aaxis": {
            "gridcolor": "#DFE8F3",
            "linecolor": "#A2B1C6",
            "ticks": ""
           },
           "baxis": {
            "gridcolor": "#DFE8F3",
            "linecolor": "#A2B1C6",
            "ticks": ""
           },
           "bgcolor": "white",
           "caxis": {
            "gridcolor": "#DFE8F3",
            "linecolor": "#A2B1C6",
            "ticks": ""
           }
          },
          "title": {
           "x": 0.05
          },
          "xaxis": {
           "automargin": true,
           "gridcolor": "#EBF0F8",
           "linecolor": "#EBF0F8",
           "ticks": "",
           "title": {
            "standoff": 15
           },
           "zerolinecolor": "#EBF0F8",
           "zerolinewidth": 2
          },
          "yaxis": {
           "automargin": true,
           "gridcolor": "#EBF0F8",
           "linecolor": "#EBF0F8",
           "ticks": "",
           "title": {
            "standoff": 15
           },
           "zerolinecolor": "#EBF0F8",
           "zerolinewidth": 2
          }
         }
        },
        "title": {
         "text": "Ferry Revenue Forecast - Monthly Data (Ticket Price: $8 CAD)"
        },
        "xaxis": {
         "gridcolor": "lightgray",
         "gridwidth": 0.5,
         "showgrid": true,
         "tickangle": 45,
         "tickmode": "array",
         "ticktext": [
          "Jan 2023",
          "Feb 2023",
          "Mar 2023",
          "Apr 2023",
          "May 2023",
          "Jun 2023",
          "Jul 2023",
          "Aug 2023",
          "Sep 2023",
          "Oct 2023",
          "Nov 2023",
          "Dec 2023",
          "Jan 2024",
          "Feb 2024",
          "Mar 2024",
          "Apr 2024",
          "May 2024",
          "Jun 2024",
          "Jul 2024",
          "Aug 2024",
          "Sep 2024",
          "Oct 2024",
          "Nov 2024",
          "Dec 2024",
          "Jan 2025",
          "Feb 2025",
          "Mar 2025",
          "Apr 2025",
          "May 2025",
          "Jun 2025",
          "Jul 2025",
          "Aug 2025",
          "Sep 2025",
          "Oct 2025",
          "Nov 2025",
          "Dec 2025",
          "Jan 2026",
          "Feb 2026",
          "Mar 2026",
          "Apr 2026",
          "May 2026",
          "Jun 2026"
         ],
         "tickvals": [
          "2023-01-31T00:00:00",
          "2023-02-28T00:00:00",
          "2023-03-31T00:00:00",
          "2023-04-30T00:00:00",
          "2023-05-31T00:00:00",
          "2023-06-30T00:00:00",
          "2023-07-31T00:00:00",
          "2023-08-31T00:00:00",
          "2023-09-30T00:00:00",
          "2023-10-31T00:00:00",
          "2023-11-30T00:00:00",
          "2023-12-31T00:00:00",
          "2024-01-31T00:00:00",
          "2024-02-29T00:00:00",
          "2024-03-31T00:00:00",
          "2024-04-30T00:00:00",
          "2024-05-31T00:00:00",
          "2024-06-30T00:00:00",
          "2024-07-31T00:00:00",
          "2024-08-31T00:00:00",
          "2024-09-30T00:00:00",
          "2024-10-31T00:00:00",
          "2024-11-30T00:00:00",
          "2024-12-31T00:00:00",
          "2025-01-31T00:00:00",
          "2025-02-28T00:00:00",
          "2025-03-31T00:00:00",
          "2025-04-30T00:00:00",
          "2025-05-31T00:00:00",
          "2025-06-30T00:00:00",
          "2025-07-31T00:00:00",
          "2025-08-31T00:00:00",
          "2025-09-30T00:00:00",
          "2025-10-31T00:00:00",
          "2025-11-30T00:00:00",
          "2025-12-31T00:00:00",
          "2026-01-31T00:00:00",
          "2026-02-28T00:00:00",
          "2026-03-31T00:00:00",
          "2026-04-30T00:00:00",
          "2026-05-31T00:00:00",
          "2026-06-30T00:00:00"
         ],
         "title": {
          "text": "Date"
         }
        },
        "yaxis": {
         "gridcolor": "lightgray",
         "gridwidth": 0.5,
         "showgrid": true,
         "tickformat": "$,.0f",
         "title": {
          "text": "Revenue (CAD)"
         }
        }
       }
      }
     },
     "metadata": {},
     "output_type": "display_data"
    }
   ],
   "source": [
    "# Revenue Plotting Code\n",
    "import plotly.graph_objects as go\n",
    "\n",
    "# Set ticket price\n",
    "ticket_price = 8.0  # CAD\n",
    "\n",
    "# Calculate historical revenue\n",
    "df_revenue = df.copy()\n",
    "df_revenue['Revenue'] = df_revenue['Sales Count'] * ticket_price\n",
    "\n",
    "# Calculate forecasted revenue\n",
    "forecast_revenue = forecast.copy()\n",
    "forecast_revenue['Revenue'] = forecast_revenue['yhat'] * ticket_price\n",
    "\n",
    "# Create revenue forecast plot\n",
    "fig = go.Figure()\n",
    "\n",
    "# Plot actual revenue\n",
    "fig.add_trace(go.Scatter(\n",
    "    x=df_revenue['Date'],\n",
    "    y=df_revenue['Revenue'],\n",
    "    mode='lines+markers+text',\n",
    "    text=[f\"${int(val):,}\" for val in df_revenue['Revenue']],\n",
    "    textposition='top center',\n",
    "    textfont=dict(size=9, color='blue'),\n",
    "    name='Actual Revenue',\n",
    "    line=dict(color='blue', width=2, shape='spline', smoothing=1.3),\n",
    "    marker=dict(size=6, color='blue')\n",
    "))\n",
    "\n",
    "# Create seamless connection for forecast\n",
    "last_actual_date = df_revenue['Date'].iloc[-1]\n",
    "last_actual_value = df_revenue['Revenue'].iloc[-1]\n",
    "\n",
    "forecast_dates = [last_actual_date] + list(forecast_revenue['ds'])\n",
    "forecast_values = [last_actual_value] + list(forecast_revenue['Revenue'])\n",
    "\n",
    "# Plot forecast revenue\n",
    "fig.add_trace(go.Scatter(\n",
    "    x=forecast_dates,\n",
    "    y=forecast_values,\n",
    "    mode='lines+markers+text',\n",
    "    text=[''] + [f\"${int(val):,}\" for val in forecast_revenue['Revenue']],\n",
    "    textposition='top center',\n",
    "    textfont=dict(size=9, color='red'),\n",
    "    name='Forecast Revenue',\n",
    "    line=dict(color='red', width=2, dash='dot', shape='spline', smoothing=1.3),\n",
    "    marker=dict(size=6, color='red')\n",
    "))\n",
    "\n",
    "# Combine all dates for x-axis\n",
    "all_dates = list(df_revenue['Date']) + list(forecast_revenue['ds'])\n",
    "\n",
    "# Update layout\n",
    "fig.update_layout(\n",
    "    title='Ferry Revenue Forecast - Monthly Data (Ticket Price: $8 CAD)',\n",
    "    xaxis_title='Date',\n",
    "    yaxis_title='Revenue (CAD)',\n",
    "    template='plotly_white',\n",
    "    height=500,\n",
    "    margin=dict(t=80, b=60, l=60, r=60),\n",
    "    xaxis=dict(\n",
    "        tickmode='array',\n",
    "        tickvals=all_dates,\n",
    "        ticktext=[d.strftime('%b %Y') for d in all_dates],\n",
    "        tickangle=45,\n",
    "        showgrid=True,\n",
    "        gridcolor='lightgray',\n",
    "        gridwidth=0.5\n",
    "    ),\n",
    "    yaxis=dict(\n",
    "        showgrid=True,\n",
    "        gridcolor='lightgray',\n",
    "        gridwidth=0.5,\n",
    "        tickformat='$,.0f'  # Format as currency\n",
    "    ),\n",
    "    legend=dict(\n",
    "        x=0.02,\n",
    "        y=0.98,\n",
    "        bgcolor='rgba(255,255,255,0.8)',\n",
    "        bordercolor='gray',\n",
    "        borderwidth=1\n",
    "    ),\n",
    "    hovermode='x unified'\n",
    ")\n",
    "\n",
    "fig.show()"
   ]
  },
  {
   "cell_type": "code",
   "execution_count": 157,
   "id": "bff42066",
   "metadata": {},
   "outputs": [
    {
     "data": {
      "application/vnd.plotly.v1+json": {
       "config": {
        "plotlyServerURL": "https://plot.ly"
       },
       "data": [
        {
         "delta": {
          "position": "top",
          "reference": 370626,
          "relative": true
         },
         "domain": {
          "column": 0,
          "row": 0,
          "x": [
           0,
           0.2888888888888889
          ],
          "y": [
           0.625,
           1
          ]
         },
         "mode": "number+delta",
         "number": {
          "font": {
           "size": 30
          },
          "suffix": " tickets"
         },
         "title": {
          "text": "Latest (Aug 2025)"
         },
         "type": "indicator",
         "value": 199215
        },
        {
         "delta": {
          "position": "top",
          "reference": 199215,
          "relative": true
         },
         "domain": {
          "column": 1,
          "row": 0,
          "x": [
           0.35555555555555557,
           0.6444444444444445
          ],
          "y": [
           0.625,
           1
          ]
         },
         "mode": "number+delta",
         "number": {
          "font": {
           "size": 30
          },
          "suffix": " tickets"
         },
         "title": {
          "text": "Next Month Forecast"
         },
         "type": "indicator",
         "value": 211682
        },
        {
         "domain": {
          "column": 2,
          "row": 0,
          "x": [
           0.7111111111111111,
           1
          ],
          "y": [
           0.625,
           1
          ]
         },
         "gauge": {
          "axis": {
           "range": [
            -50,
            50
           ]
          },
          "bar": {
           "color": "red"
          },
          "steps": [
           {
            "color": "lightgray",
            "range": [
             -50,
             0
            ]
           },
           {
            "color": "lightgreen",
            "range": [
             0,
             50
            ]
           }
          ],
          "threshold": {
           "line": {
            "color": "red",
            "width": 4
           },
           "thickness": 0.75,
           "value": 0
          }
         },
         "mode": "number+gauge",
         "number": {
          "font": {
           "size": 30
          },
          "suffix": "%"
         },
         "title": {
          "text": "Month-over-Month Sales Growth"
         },
         "type": "indicator",
         "value": -46.24904890644477
        },
        {
         "delta": {
          "position": "top",
          "reference": 2965008,
          "relative": true
         },
         "domain": {
          "column": 0,
          "row": 1,
          "x": [
           0,
           0.2888888888888889
          ],
          "y": [
           0,
           0.375
          ]
         },
         "mode": "number+delta",
         "number": {
          "font": {
           "size": 30
          },
          "prefix": "$",
          "valueformat": ",.0f"
         },
         "title": {
          "text": "Latest (Aug 2025)"
         },
         "type": "indicator",
         "value": 1593720
        },
        {
         "delta": {
          "position": "top",
          "reference": 1593720,
          "relative": true
         },
         "domain": {
          "column": 1,
          "row": 1,
          "x": [
           0.35555555555555557,
           0.6444444444444445
          ],
          "y": [
           0,
           0.375
          ]
         },
         "mode": "number+delta",
         "number": {
          "font": {
           "size": 30
          },
          "prefix": "$",
          "valueformat": ",.0f"
         },
         "title": {
          "text": "Next Month Forecast Revenue"
         },
         "type": "indicator",
         "value": 1693458.8807961133
        },
        {
         "domain": {
          "column": 2,
          "row": 1,
          "x": [
           0.7111111111111111,
           1
          ],
          "y": [
           0,
           0.375
          ]
         },
         "gauge": {
          "axis": {
           "range": [
            -50,
            50
           ]
          },
          "bar": {
           "color": "red"
          },
          "steps": [
           {
            "color": "lightgray",
            "range": [
             -50,
             0
            ]
           },
           {
            "color": "lightgreen",
            "range": [
             0,
             50
            ]
           }
          ],
          "threshold": {
           "line": {
            "color": "red",
            "width": 4
           },
           "thickness": 0.75,
           "value": 0
          }
         },
         "mode": "number+gauge",
         "number": {
          "font": {
           "size": 30
          },
          "suffix": "%"
         },
         "title": {
          "text": "Month-over-Month Revenue Growth"
         },
         "type": "indicator",
         "value": -46.24904890644477
        }
       ],
       "layout": {
        "annotations": [
         {
          "font": {
           "size": 16
          },
          "showarrow": false,
          "text": "Current Month Sales",
          "x": 0.14444444444444446,
          "xanchor": "center",
          "xref": "paper",
          "y": 1,
          "yanchor": "bottom",
          "yref": "paper"
         },
         {
          "font": {
           "size": 16
          },
          "showarrow": false,
          "text": "Next Month Forecast Sales",
          "x": 0.5,
          "xanchor": "center",
          "xref": "paper",
          "y": 1,
          "yanchor": "bottom",
          "yref": "paper"
         },
         {
          "font": {
           "size": 16
          },
          "showarrow": false,
          "text": "Sales Growth",
          "x": 0.8555555555555556,
          "xanchor": "center",
          "xref": "paper",
          "y": 1,
          "yanchor": "bottom",
          "yref": "paper"
         },
         {
          "font": {
           "size": 16
          },
          "showarrow": false,
          "text": "Current Month Revenue",
          "x": 0.14444444444444446,
          "xanchor": "center",
          "xref": "paper",
          "y": 0.375,
          "yanchor": "bottom",
          "yref": "paper"
         },
         {
          "font": {
           "size": 16
          },
          "showarrow": false,
          "text": "Next Month Forecast Revenue",
          "x": 0.5,
          "xanchor": "center",
          "xref": "paper",
          "y": 0.375,
          "yanchor": "bottom",
          "yref": "paper"
         },
         {
          "font": {
           "size": 16
          },
          "showarrow": false,
          "text": "Revenue Growth",
          "x": 0.8555555555555556,
          "xanchor": "center",
          "xref": "paper",
          "y": 0.375,
          "yanchor": "bottom",
          "yref": "paper"
         }
        ],
        "font": {
         "family": "Arial",
         "size": 12
        },
        "height": 600,
        "margin": {
         "b": 50,
         "l": 50,
         "r": 50,
         "t": 100
        },
        "paper_bgcolor": "white",
        "template": {
         "data": {
          "bar": [
           {
            "error_x": {
             "color": "#2a3f5f"
            },
            "error_y": {
             "color": "#2a3f5f"
            },
            "marker": {
             "line": {
              "color": "#E5ECF6",
              "width": 0.5
             },
             "pattern": {
              "fillmode": "overlay",
              "size": 10,
              "solidity": 0.2
             }
            },
            "type": "bar"
           }
          ],
          "barpolar": [
           {
            "marker": {
             "line": {
              "color": "#E5ECF6",
              "width": 0.5
             },
             "pattern": {
              "fillmode": "overlay",
              "size": 10,
              "solidity": 0.2
             }
            },
            "type": "barpolar"
           }
          ],
          "carpet": [
           {
            "aaxis": {
             "endlinecolor": "#2a3f5f",
             "gridcolor": "white",
             "linecolor": "white",
             "minorgridcolor": "white",
             "startlinecolor": "#2a3f5f"
            },
            "baxis": {
             "endlinecolor": "#2a3f5f",
             "gridcolor": "white",
             "linecolor": "white",
             "minorgridcolor": "white",
             "startlinecolor": "#2a3f5f"
            },
            "type": "carpet"
           }
          ],
          "choropleth": [
           {
            "colorbar": {
             "outlinewidth": 0,
             "ticks": ""
            },
            "type": "choropleth"
           }
          ],
          "contour": [
           {
            "colorbar": {
             "outlinewidth": 0,
             "ticks": ""
            },
            "colorscale": [
             [
              0,
              "#0d0887"
             ],
             [
              0.1111111111111111,
              "#46039f"
             ],
             [
              0.2222222222222222,
              "#7201a8"
             ],
             [
              0.3333333333333333,
              "#9c179e"
             ],
             [
              0.4444444444444444,
              "#bd3786"
             ],
             [
              0.5555555555555556,
              "#d8576b"
             ],
             [
              0.6666666666666666,
              "#ed7953"
             ],
             [
              0.7777777777777778,
              "#fb9f3a"
             ],
             [
              0.8888888888888888,
              "#fdca26"
             ],
             [
              1,
              "#f0f921"
             ]
            ],
            "type": "contour"
           }
          ],
          "contourcarpet": [
           {
            "colorbar": {
             "outlinewidth": 0,
             "ticks": ""
            },
            "type": "contourcarpet"
           }
          ],
          "heatmap": [
           {
            "colorbar": {
             "outlinewidth": 0,
             "ticks": ""
            },
            "colorscale": [
             [
              0,
              "#0d0887"
             ],
             [
              0.1111111111111111,
              "#46039f"
             ],
             [
              0.2222222222222222,
              "#7201a8"
             ],
             [
              0.3333333333333333,
              "#9c179e"
             ],
             [
              0.4444444444444444,
              "#bd3786"
             ],
             [
              0.5555555555555556,
              "#d8576b"
             ],
             [
              0.6666666666666666,
              "#ed7953"
             ],
             [
              0.7777777777777778,
              "#fb9f3a"
             ],
             [
              0.8888888888888888,
              "#fdca26"
             ],
             [
              1,
              "#f0f921"
             ]
            ],
            "type": "heatmap"
           }
          ],
          "histogram": [
           {
            "marker": {
             "pattern": {
              "fillmode": "overlay",
              "size": 10,
              "solidity": 0.2
             }
            },
            "type": "histogram"
           }
          ],
          "histogram2d": [
           {
            "colorbar": {
             "outlinewidth": 0,
             "ticks": ""
            },
            "colorscale": [
             [
              0,
              "#0d0887"
             ],
             [
              0.1111111111111111,
              "#46039f"
             ],
             [
              0.2222222222222222,
              "#7201a8"
             ],
             [
              0.3333333333333333,
              "#9c179e"
             ],
             [
              0.4444444444444444,
              "#bd3786"
             ],
             [
              0.5555555555555556,
              "#d8576b"
             ],
             [
              0.6666666666666666,
              "#ed7953"
             ],
             [
              0.7777777777777778,
              "#fb9f3a"
             ],
             [
              0.8888888888888888,
              "#fdca26"
             ],
             [
              1,
              "#f0f921"
             ]
            ],
            "type": "histogram2d"
           }
          ],
          "histogram2dcontour": [
           {
            "colorbar": {
             "outlinewidth": 0,
             "ticks": ""
            },
            "colorscale": [
             [
              0,
              "#0d0887"
             ],
             [
              0.1111111111111111,
              "#46039f"
             ],
             [
              0.2222222222222222,
              "#7201a8"
             ],
             [
              0.3333333333333333,
              "#9c179e"
             ],
             [
              0.4444444444444444,
              "#bd3786"
             ],
             [
              0.5555555555555556,
              "#d8576b"
             ],
             [
              0.6666666666666666,
              "#ed7953"
             ],
             [
              0.7777777777777778,
              "#fb9f3a"
             ],
             [
              0.8888888888888888,
              "#fdca26"
             ],
             [
              1,
              "#f0f921"
             ]
            ],
            "type": "histogram2dcontour"
           }
          ],
          "mesh3d": [
           {
            "colorbar": {
             "outlinewidth": 0,
             "ticks": ""
            },
            "type": "mesh3d"
           }
          ],
          "parcoords": [
           {
            "line": {
             "colorbar": {
              "outlinewidth": 0,
              "ticks": ""
             }
            },
            "type": "parcoords"
           }
          ],
          "pie": [
           {
            "automargin": true,
            "type": "pie"
           }
          ],
          "scatter": [
           {
            "fillpattern": {
             "fillmode": "overlay",
             "size": 10,
             "solidity": 0.2
            },
            "type": "scatter"
           }
          ],
          "scatter3d": [
           {
            "line": {
             "colorbar": {
              "outlinewidth": 0,
              "ticks": ""
             }
            },
            "marker": {
             "colorbar": {
              "outlinewidth": 0,
              "ticks": ""
             }
            },
            "type": "scatter3d"
           }
          ],
          "scattercarpet": [
           {
            "marker": {
             "colorbar": {
              "outlinewidth": 0,
              "ticks": ""
             }
            },
            "type": "scattercarpet"
           }
          ],
          "scattergeo": [
           {
            "marker": {
             "colorbar": {
              "outlinewidth": 0,
              "ticks": ""
             }
            },
            "type": "scattergeo"
           }
          ],
          "scattergl": [
           {
            "marker": {
             "colorbar": {
              "outlinewidth": 0,
              "ticks": ""
             }
            },
            "type": "scattergl"
           }
          ],
          "scattermap": [
           {
            "marker": {
             "colorbar": {
              "outlinewidth": 0,
              "ticks": ""
             }
            },
            "type": "scattermap"
           }
          ],
          "scattermapbox": [
           {
            "marker": {
             "colorbar": {
              "outlinewidth": 0,
              "ticks": ""
             }
            },
            "type": "scattermapbox"
           }
          ],
          "scatterpolar": [
           {
            "marker": {
             "colorbar": {
              "outlinewidth": 0,
              "ticks": ""
             }
            },
            "type": "scatterpolar"
           }
          ],
          "scatterpolargl": [
           {
            "marker": {
             "colorbar": {
              "outlinewidth": 0,
              "ticks": ""
             }
            },
            "type": "scatterpolargl"
           }
          ],
          "scatterternary": [
           {
            "marker": {
             "colorbar": {
              "outlinewidth": 0,
              "ticks": ""
             }
            },
            "type": "scatterternary"
           }
          ],
          "surface": [
           {
            "colorbar": {
             "outlinewidth": 0,
             "ticks": ""
            },
            "colorscale": [
             [
              0,
              "#0d0887"
             ],
             [
              0.1111111111111111,
              "#46039f"
             ],
             [
              0.2222222222222222,
              "#7201a8"
             ],
             [
              0.3333333333333333,
              "#9c179e"
             ],
             [
              0.4444444444444444,
              "#bd3786"
             ],
             [
              0.5555555555555556,
              "#d8576b"
             ],
             [
              0.6666666666666666,
              "#ed7953"
             ],
             [
              0.7777777777777778,
              "#fb9f3a"
             ],
             [
              0.8888888888888888,
              "#fdca26"
             ],
             [
              1,
              "#f0f921"
             ]
            ],
            "type": "surface"
           }
          ],
          "table": [
           {
            "cells": {
             "fill": {
              "color": "#EBF0F8"
             },
             "line": {
              "color": "white"
             }
            },
            "header": {
             "fill": {
              "color": "#C8D4E3"
             },
             "line": {
              "color": "white"
             }
            },
            "type": "table"
           }
          ]
         },
         "layout": {
          "annotationdefaults": {
           "arrowcolor": "#2a3f5f",
           "arrowhead": 0,
           "arrowwidth": 1
          },
          "autotypenumbers": "strict",
          "coloraxis": {
           "colorbar": {
            "outlinewidth": 0,
            "ticks": ""
           }
          },
          "colorscale": {
           "diverging": [
            [
             0,
             "#8e0152"
            ],
            [
             0.1,
             "#c51b7d"
            ],
            [
             0.2,
             "#de77ae"
            ],
            [
             0.3,
             "#f1b6da"
            ],
            [
             0.4,
             "#fde0ef"
            ],
            [
             0.5,
             "#f7f7f7"
            ],
            [
             0.6,
             "#e6f5d0"
            ],
            [
             0.7,
             "#b8e186"
            ],
            [
             0.8,
             "#7fbc41"
            ],
            [
             0.9,
             "#4d9221"
            ],
            [
             1,
             "#276419"
            ]
           ],
           "sequential": [
            [
             0,
             "#0d0887"
            ],
            [
             0.1111111111111111,
             "#46039f"
            ],
            [
             0.2222222222222222,
             "#7201a8"
            ],
            [
             0.3333333333333333,
             "#9c179e"
            ],
            [
             0.4444444444444444,
             "#bd3786"
            ],
            [
             0.5555555555555556,
             "#d8576b"
            ],
            [
             0.6666666666666666,
             "#ed7953"
            ],
            [
             0.7777777777777778,
             "#fb9f3a"
            ],
            [
             0.8888888888888888,
             "#fdca26"
            ],
            [
             1,
             "#f0f921"
            ]
           ],
           "sequentialminus": [
            [
             0,
             "#0d0887"
            ],
            [
             0.1111111111111111,
             "#46039f"
            ],
            [
             0.2222222222222222,
             "#7201a8"
            ],
            [
             0.3333333333333333,
             "#9c179e"
            ],
            [
             0.4444444444444444,
             "#bd3786"
            ],
            [
             0.5555555555555556,
             "#d8576b"
            ],
            [
             0.6666666666666666,
             "#ed7953"
            ],
            [
             0.7777777777777778,
             "#fb9f3a"
            ],
            [
             0.8888888888888888,
             "#fdca26"
            ],
            [
             1,
             "#f0f921"
            ]
           ]
          },
          "colorway": [
           "#636efa",
           "#EF553B",
           "#00cc96",
           "#ab63fa",
           "#FFA15A",
           "#19d3f3",
           "#FF6692",
           "#B6E880",
           "#FF97FF",
           "#FECB52"
          ],
          "font": {
           "color": "#2a3f5f"
          },
          "geo": {
           "bgcolor": "white",
           "lakecolor": "white",
           "landcolor": "#E5ECF6",
           "showlakes": true,
           "showland": true,
           "subunitcolor": "white"
          },
          "hoverlabel": {
           "align": "left"
          },
          "hovermode": "closest",
          "mapbox": {
           "style": "light"
          },
          "paper_bgcolor": "white",
          "plot_bgcolor": "#E5ECF6",
          "polar": {
           "angularaxis": {
            "gridcolor": "white",
            "linecolor": "white",
            "ticks": ""
           },
           "bgcolor": "#E5ECF6",
           "radialaxis": {
            "gridcolor": "white",
            "linecolor": "white",
            "ticks": ""
           }
          },
          "scene": {
           "xaxis": {
            "backgroundcolor": "#E5ECF6",
            "gridcolor": "white",
            "gridwidth": 2,
            "linecolor": "white",
            "showbackground": true,
            "ticks": "",
            "zerolinecolor": "white"
           },
           "yaxis": {
            "backgroundcolor": "#E5ECF6",
            "gridcolor": "white",
            "gridwidth": 2,
            "linecolor": "white",
            "showbackground": true,
            "ticks": "",
            "zerolinecolor": "white"
           },
           "zaxis": {
            "backgroundcolor": "#E5ECF6",
            "gridcolor": "white",
            "gridwidth": 2,
            "linecolor": "white",
            "showbackground": true,
            "ticks": "",
            "zerolinecolor": "white"
           }
          },
          "shapedefaults": {
           "line": {
            "color": "#2a3f5f"
           }
          },
          "ternary": {
           "aaxis": {
            "gridcolor": "white",
            "linecolor": "white",
            "ticks": ""
           },
           "baxis": {
            "gridcolor": "white",
            "linecolor": "white",
            "ticks": ""
           },
           "bgcolor": "#E5ECF6",
           "caxis": {
            "gridcolor": "white",
            "linecolor": "white",
            "ticks": ""
           }
          },
          "title": {
           "x": 0.05
          },
          "xaxis": {
           "automargin": true,
           "gridcolor": "white",
           "linecolor": "white",
           "ticks": "",
           "title": {
            "standoff": 15
           },
           "zerolinecolor": "white",
           "zerolinewidth": 2
          },
          "yaxis": {
           "automargin": true,
           "gridcolor": "white",
           "linecolor": "white",
           "ticks": "",
           "title": {
            "standoff": 15
           },
           "zerolinecolor": "white",
           "zerolinewidth": 2
          }
         }
        },
        "title": {
         "font": {
          "family": "Arial Black",
          "size": 24
         },
         "text": "Ferry Sales & Revenue KPI Dashboard",
         "x": 0.5
        }
       }
      }
     },
     "metadata": {},
     "output_type": "display_data"
    },
    {
     "name": "stdout",
     "output_type": "stream",
     "text": [
      "\n",
      "======================================================================\n",
      "FERRY OPERATIONS - EXECUTIVE KPI SUMMARY\n",
      "======================================================================\n",
      "📊 CURRENT PERFORMANCE:\n",
      "   Current Month Sales: 199,215 tickets\n",
      "   Current Month Revenue: $1,593,720 CAD\n",
      "   Month-over-Month Growth: -46.2%\n",
      "\n",
      "🔮 NEXT MONTH FORECAST:\n",
      "   Forecasted Sales: 211,682 tickets\n",
      "   Forecasted Revenue: $1,693,459 CAD\n",
      "   Expected Change: +6.3% sales, +6.3% revenue\n",
      "\n",
      "💰 KEY METRICS:\n",
      "   Average Ticket Price: $8.00 CAD\n",
      "   Revenue per Ticket: $8.00 CAD\n",
      "======================================================================\n"
     ]
    }
   ],
   "source": [
    "import plotly.graph_objects as go\n",
    "from plotly.subplots import make_subplots\n",
    "import pandas as pd\n",
    "from datetime import datetime\n",
    "\n",
    "# Set ticket price\n",
    "ticket_price = 8.0\n",
    "\n",
    "# Calculate revenue for historical data\n",
    "df_revenue = df.copy()\n",
    "df_revenue['Revenue'] = df_revenue['Sales Count'] * ticket_price\n",
    "\n",
    "# Calculate revenue for forecast data\n",
    "forecast_revenue = forecast.copy()\n",
    "forecast_revenue['Revenue'] = forecast_revenue['yhat'] * ticket_price\n",
    "\n",
    "# Get current date info\n",
    "current_date = pd.Timestamp.today()\n",
    "current_month = current_date.replace(day=1)\n",
    "next_month = current_month + pd.DateOffset(months=1)\n",
    "\n",
    "# Extract KPI values\n",
    "def get_kpis():\n",
    "    kpis = {}\n",
    "    \n",
    "    # This month actual (if available)\n",
    "    this_month_actual = df_revenue[df_revenue['Date'] == current_month]\n",
    "    if not this_month_actual.empty:\n",
    "        kpis['this_month_sales'] = this_month_actual['Sales Count'].iloc[0]\n",
    "        kpis['this_month_revenue'] = this_month_actual['Revenue'].iloc[0]\n",
    "    else:\n",
    "        # Use last available month as \"current\"\n",
    "        last_month = df_revenue['Date'].max()\n",
    "        last_data = df_revenue[df_revenue['Date'] == last_month]\n",
    "        kpis['this_month_sales'] = last_data['Sales Count'].iloc[0]\n",
    "        kpis['this_month_revenue'] = last_data['Revenue'].iloc[0]\n",
    "        kpis['this_month_label'] = f\"Latest ({last_month.strftime('%b %Y')})\"\n",
    "    \n",
    "    # Next month forecast\n",
    "    next_month_forecast = forecast_revenue.iloc[0]  # First forecast point\n",
    "    kpis['next_month_sales'] = int(next_month_forecast['yhat'])\n",
    "    kpis['next_month_revenue'] = next_month_forecast['Revenue']\n",
    "    \n",
    "    # Growth calculations\n",
    "    if len(df_revenue) >= 2:\n",
    "        prev_month = df_revenue.iloc[-2]\n",
    "        current_month_data = df_revenue.iloc[-1]\n",
    "        \n",
    "        # Store previous month values for delta reference\n",
    "        kpis['prev_month_sales'] = prev_month['Sales Count']\n",
    "        kpis['prev_month_revenue'] = prev_month['Revenue']\n",
    "        \n",
    "        # Calculate growth percentages\n",
    "        kpis['sales_growth'] = ((current_month_data['Sales Count'] - prev_month['Sales Count']) / prev_month['Sales Count']) * 100\n",
    "        kpis['revenue_growth'] = ((current_month_data['Revenue'] - prev_month['Revenue']) / prev_month['Revenue']) * 100\n",
    "    else:\n",
    "        # Fallback if not enough data\n",
    "        kpis['prev_month_sales'] = kpis['this_month_sales']\n",
    "        kpis['prev_month_revenue'] = kpis['this_month_revenue']\n",
    "        kpis['sales_growth'] = 0\n",
    "        kpis['revenue_growth'] = 0\n",
    "    \n",
    "    # Forecast vs current comparison\n",
    "    kpis['forecast_sales_change'] = ((kpis['next_month_sales'] - kpis['this_month_sales']) / kpis['this_month_sales']) * 100\n",
    "    kpis['forecast_revenue_change'] = ((kpis['next_month_revenue'] - kpis['this_month_revenue']) / kpis['this_month_revenue']) * 100\n",
    "    \n",
    "    return kpis\n",
    "\n",
    "# Get KPI values\n",
    "kpis = get_kpis()\n",
    "\n",
    "# Create KPI Dashboard\n",
    "fig = make_subplots(\n",
    "    rows=2, cols=3,\n",
    "    subplot_titles=[\n",
    "        \"Current Month Sales\", \"Next Month Forecast Sales\", \"Sales Growth\",\n",
    "        \"Current Month Revenue\", \"Next Month Forecast Revenue\", \"Revenue Growth\"\n",
    "    ],\n",
    "    specs=[[{\"type\": \"indicator\"}, {\"type\": \"indicator\"}, {\"type\": \"indicator\"}],\n",
    "           [{\"type\": \"indicator\"}, {\"type\": \"indicator\"}, {\"type\": \"indicator\"}]]\n",
    ")\n",
    "\n",
    "# Current Month Sales KPI\n",
    "fig.add_trace(go.Indicator(\n",
    "    mode=\"number+delta\",\n",
    "    value=kpis['this_month_sales'],\n",
    "    number={'suffix': \" tickets\", 'font': {'size': 30}},\n",
    "    delta={'reference': kpis.get('prev_month_sales', kpis['this_month_sales']), 'relative': True, 'position': \"top\"},\n",
    "    title={\"text\": kpis.get('this_month_label', 'Current Month')},\n",
    "    domain={'row': 0, 'column': 0}\n",
    "), row=1, col=1)\n",
    "\n",
    "# Next Month Forecast Sales KPI\n",
    "fig.add_trace(go.Indicator(\n",
    "    mode=\"number+delta\",\n",
    "    value=kpis['next_month_sales'],\n",
    "    number={'suffix': \" tickets\", 'font': {'size': 30}},\n",
    "    delta={'reference': kpis['this_month_sales'], 'relative': True, 'position': \"top\"},\n",
    "    title={\"text\": \"Next Month Forecast\"},\n",
    "    domain={'row': 0, 'column': 1}\n",
    "), row=1, col=2)\n",
    "\n",
    "# Sales Growth KPI\n",
    "fig.add_trace(go.Indicator(\n",
    "    mode=\"number+gauge\",\n",
    "    value=kpis.get('sales_growth', 0),\n",
    "    number={'suffix': \"%\", 'font': {'size': 30}},\n",
    "    gauge={'axis': {'range': [-50, 50]},\n",
    "           'bar': {'color': \"green\" if kpis.get('sales_growth', 0) > 0 else \"red\"},\n",
    "           'steps': [{'range': [-50, 0], 'color': \"lightgray\"},\n",
    "                    {'range': [0, 50], 'color': \"lightgreen\"}],\n",
    "           'threshold': {'line': {'color': \"red\", 'width': 4},\n",
    "                        'thickness': 0.75, 'value': 0}},\n",
    "    title={\"text\": \"Month-over-Month Sales Growth\"},\n",
    "    domain={'row': 0, 'column': 2}\n",
    "), row=1, col=3)\n",
    "\n",
    "# Current Month Revenue KPI\n",
    "fig.add_trace(go.Indicator(\n",
    "    mode=\"number+delta\",\n",
    "    value=kpis['this_month_revenue'],\n",
    "    number={'prefix': \"$\", 'font': {'size': 30}, 'valueformat': ',.0f'},\n",
    "    delta={'reference': kpis.get('prev_month_revenue', kpis['this_month_revenue']), 'relative': True, 'position': \"top\"},\n",
    "    title={\"text\": kpis.get('this_month_label', 'Current Month Revenue')},\n",
    "    domain={'row': 1, 'column': 0}\n",
    "), row=2, col=1)\n",
    "\n",
    "# Next Month Forecast Revenue KPI\n",
    "fig.add_trace(go.Indicator(\n",
    "    mode=\"number+delta\",\n",
    "    value=kpis['next_month_revenue'],\n",
    "    number={'prefix': \"$\", 'font': {'size': 30}, 'valueformat': ',.0f'},\n",
    "    delta={'reference': kpis['this_month_revenue'], 'relative': True, 'position': \"top\"},\n",
    "    title={\"text\": \"Next Month Forecast Revenue\"},\n",
    "    domain={'row': 1, 'column': 1}\n",
    "), row=2, col=2)\n",
    "\n",
    "# Revenue Growth KPI\n",
    "fig.add_trace(go.Indicator(\n",
    "    mode=\"number+gauge\",\n",
    "    value=kpis.get('revenue_growth', 0),\n",
    "    number={'suffix': \"%\", 'font': {'size': 30}},\n",
    "    gauge={'axis': {'range': [-50, 50]},\n",
    "           'bar': {'color': \"green\" if kpis.get('revenue_growth', 0) > 0 else \"red\"},\n",
    "           'steps': [{'range': [-50, 0], 'color': \"lightgray\"},\n",
    "                    {'range': [0, 50], 'color': \"lightgreen\"}],\n",
    "           'threshold': {'line': {'color': \"red\", 'width': 4},\n",
    "                        'thickness': 0.75, 'value': 0}},\n",
    "    title={\"text\": \"Month-over-Month Revenue Growth\"},\n",
    "    domain={'row': 1, 'column': 2}\n",
    "), row=2, col=3)\n",
    "\n",
    "# Update layout\n",
    "fig.update_layout(\n",
    "    title={\n",
    "        'text': 'Ferry Sales & Revenue KPI Dashboard',\n",
    "        'x': 0.5,\n",
    "        'font': {'size': 24, 'family': 'Arial Black'}\n",
    "    },\n",
    "    height=600,\n",
    "    margin=dict(t=100, b=50, l=50, r=50),\n",
    "    paper_bgcolor='white',\n",
    "    font=dict(family=\"Arial\", size=12)\n",
    ")\n",
    "\n",
    "fig.show()\n",
    "\n",
    "# Print detailed KPI summary\n",
    "print(\"\\n\" + \"=\"*70)\n",
    "print(\"FERRY OPERATIONS - EXECUTIVE KPI SUMMARY\")\n",
    "print(\"=\"*70)\n",
    "print(f\"📊 CURRENT PERFORMANCE:\")\n",
    "print(f\"   Current Month Sales: {kpis['this_month_sales']:,} tickets\")\n",
    "print(f\"   Current Month Revenue: ${kpis['this_month_revenue']:,.0f} CAD\")\n",
    "print(f\"   Month-over-Month Growth: {kpis.get('sales_growth', 0):+.1f}%\")\n",
    "print()\n",
    "print(f\"🔮 NEXT MONTH FORECAST:\")\n",
    "print(f\"   Forecasted Sales: {kpis['next_month_sales']:,} tickets\")\n",
    "print(f\"   Forecasted Revenue: ${kpis['next_month_revenue']:,.0f} CAD\")\n",
    "print(f\"   Expected Change: {kpis['forecast_sales_change']:+.1f}% sales, {kpis['forecast_revenue_change']:+.1f}% revenue\")\n",
    "print()\n",
    "print(f\"💰 KEY METRICS:\")\n",
    "print(f\"   Average Ticket Price: ${ticket_price:.2f} CAD\")\n",
    "print(f\"   Revenue per Ticket: ${kpis['this_month_revenue']/kpis['this_month_sales']:.2f} CAD\")\n",
    "print(\"=\"*70)"
   ]
  },
  {
   "cell_type": "code",
   "execution_count": 166,
   "id": "22425cb1",
   "metadata": {},
   "outputs": [
    {
     "data": {
      "application/vnd.plotly.v1+json": {
       "config": {
        "plotlyServerURL": "https://plot.ly"
       },
       "data": [
        {
         "delta": {
          "position": "top",
          "reference": 370626,
          "relative": true
         },
         "domain": {
          "x": [
           0,
           0.2888888888888889
          ],
          "y": [
           0.81,
           1
          ]
         },
         "mode": "number+delta",
         "number": {
          "font": {
           "size": 30
          },
          "suffix": " tickets"
         },
         "title": {
          "text": "Latest (Aug 2025)"
         },
         "type": "indicator",
         "value": 199215
        },
        {
         "delta": {
          "position": "top",
          "reference": 199215,
          "relative": true
         },
         "domain": {
          "x": [
           0.35555555555555557,
           0.6444444444444445
          ],
          "y": [
           0.81,
           1
          ]
         },
         "mode": "number+delta",
         "number": {
          "font": {
           "size": 30
          },
          "suffix": " tickets"
         },
         "title": {
          "text": "Next Month Forecast"
         },
         "type": "indicator",
         "value": 211682
        },
        {
         "domain": {
          "x": [
           0.7111111111111111,
           1
          ],
          "y": [
           0.81,
           1
          ]
         },
         "gauge": {
          "axis": {
           "range": [
            -50,
            50
           ]
          },
          "bar": {
           "color": "red"
          },
          "steps": [
           {
            "color": "lightgray",
            "range": [
             -50,
             0
            ]
           },
           {
            "color": "lightgreen",
            "range": [
             0,
             50
            ]
           }
          ],
          "threshold": {
           "line": {
            "color": "red",
            "width": 4
           },
           "thickness": 0.75,
           "value": 0
          }
         },
         "mode": "number+gauge",
         "number": {
          "font": {
           "size": 30
          },
          "suffix": "%"
         },
         "title": {
          "text": "Month-over-Month Sales Growth"
         },
         "type": "indicator",
         "value": -46.24904890644477
        },
        {
         "delta": {
          "position": "top",
          "reference": 2965008,
          "relative": true
         },
         "domain": {
          "x": [
           0,
           0.2888888888888889
          ],
          "y": [
           0.54,
           0.73
          ]
         },
         "mode": "number+delta",
         "number": {
          "font": {
           "size": 30
          },
          "prefix": "$",
          "valueformat": ",.0f"
         },
         "title": {
          "text": "Latest (Aug 2025)"
         },
         "type": "indicator",
         "value": 1593720
        },
        {
         "delta": {
          "position": "top",
          "reference": 1593720,
          "relative": true
         },
         "domain": {
          "x": [
           0.35555555555555557,
           0.6444444444444445
          ],
          "y": [
           0.54,
           0.73
          ]
         },
         "mode": "number+delta",
         "number": {
          "font": {
           "size": 30
          },
          "prefix": "$",
          "valueformat": ",.0f"
         },
         "title": {
          "text": "Next Month Forecast Revenue"
         },
         "type": "indicator",
         "value": 1693458.8807961133
        },
        {
         "domain": {
          "x": [
           0.7111111111111111,
           1
          ],
          "y": [
           0.54,
           0.73
          ]
         },
         "gauge": {
          "axis": {
           "range": [
            -50,
            50
           ]
          },
          "bar": {
           "color": "red"
          },
          "steps": [
           {
            "color": "lightgray",
            "range": [
             -50,
             0
            ]
           },
           {
            "color": "lightgreen",
            "range": [
             0,
             50
            ]
           }
          ],
          "threshold": {
           "line": {
            "color": "red",
            "width": 4
           },
           "thickness": 0.75,
           "value": 0
          }
         },
         "mode": "number+gauge",
         "number": {
          "font": {
           "size": 30
          },
          "suffix": "%"
         },
         "title": {
          "text": "Month-over-Month Revenue Growth"
         },
         "type": "indicator",
         "value": -46.24904890644477
        },
        {
         "line": {
          "color": "blue",
          "shape": "spline",
          "smoothing": 1.3,
          "width": 2
         },
         "marker": {
          "color": "blue",
          "size": 6
         },
         "mode": "lines+markers+text",
         "name": "Actual Sales",
         "text": {
          "bdata": "AAAAAECb0EAAAAAAwJ/SQAAAAADAD9lAAAAAAPA28EAAAAAAGNwDQQAAAACocwlBAAAAAND1FEEAAAAAVN8UQQAAAABAnQVBAAAAADA480AAAAAAQDPcQAAAAACAj9VAAAAAAABBzUAAAAAAgOLUQAAAAACg8uBAAAAAAEDU5UAAAAAAGL0BQQAAAADgfAlBAAAAALz7E0EAAAAAdIMSQQAAAACQNwJBAAAAAFBN8kAAAAAAgODeQAAAAAAAudBAAAAAAIB1y0AAAAAAgCvQQAAAAACAO9dAAAAAAOBh60AAAAAAIOT8QAAAAADwxg1BAAAAAAifFkEAAAAAeFEIQQ==",
          "dtype": "f8"
         },
         "textfont": {
          "color": "blue",
          "size": 9
         },
         "textposition": "top center",
         "type": "scatter",
         "x": [
          "2023-01-31T00:00:00.000000000",
          "2023-02-28T00:00:00.000000000",
          "2023-03-31T00:00:00.000000000",
          "2023-04-30T00:00:00.000000000",
          "2023-05-31T00:00:00.000000000",
          "2023-06-30T00:00:00.000000000",
          "2023-07-31T00:00:00.000000000",
          "2023-08-31T00:00:00.000000000",
          "2023-09-30T00:00:00.000000000",
          "2023-10-31T00:00:00.000000000",
          "2023-11-30T00:00:00.000000000",
          "2023-12-31T00:00:00.000000000",
          "2024-01-31T00:00:00.000000000",
          "2024-02-29T00:00:00.000000000",
          "2024-03-31T00:00:00.000000000",
          "2024-04-30T00:00:00.000000000",
          "2024-05-31T00:00:00.000000000",
          "2024-06-30T00:00:00.000000000",
          "2024-07-31T00:00:00.000000000",
          "2024-08-31T00:00:00.000000000",
          "2024-09-30T00:00:00.000000000",
          "2024-10-31T00:00:00.000000000",
          "2024-11-30T00:00:00.000000000",
          "2024-12-31T00:00:00.000000000",
          "2025-01-31T00:00:00.000000000",
          "2025-02-28T00:00:00.000000000",
          "2025-03-31T00:00:00.000000000",
          "2025-04-30T00:00:00.000000000",
          "2025-05-31T00:00:00.000000000",
          "2025-06-30T00:00:00.000000000",
          "2025-07-31T00:00:00.000000000",
          "2025-08-31T00:00:00.000000000"
         ],
         "xaxis": "x",
         "y": {
          "bdata": "bUIAAH9KAAA/ZAAAbwMBAIN7AgB1LgMAdD0FANU3BQCoswIAgzMBAM1wAAA+VgAAgjoAAIpTAACVhwAAoq4AAKM3AgCcLwMA7/4EAN2gBADyRgIA1SQBAIJ7AADkQgAA6zYAAK5AAADuXAAAD9sAAELOAQDeuAMAwqcFAC8KAwA=",
          "dtype": "i4"
         },
         "yaxis": "y"
        },
        {
         "line": {
          "color": "red",
          "dash": "dot",
          "shape": "spline",
          "smoothing": 1.3,
          "width": 2
         },
         "marker": {
          "color": "red",
          "size": 6
         },
         "mode": "lines+markers+text",
         "name": "Forecast",
         "text": [
          "",
          "211682",
          "115880",
          "65455",
          "35832",
          "29871",
          "34375",
          "63686",
          "112774",
          "278627",
          "386867"
         ],
         "textfont": {
          "color": "red",
          "size": 9
         },
         "textposition": "top center",
         "type": "scatter",
         "x": [
          "2025-08-31T00:00:00",
          "2025-09-30T00:00:00",
          "2025-10-31T00:00:00",
          "2025-11-30T00:00:00",
          "2025-12-31T00:00:00",
          "2026-01-31T00:00:00",
          "2026-02-28T00:00:00",
          "2026-03-31T00:00:00",
          "2026-04-30T00:00:00",
          "2026-05-31T00:00:00",
          "2026-06-30T00:00:00"
         ],
         "xaxis": "x",
         "y": [
          199215,
          211682.36009951416,
          115880.6567723018,
          65455.031114013924,
          35832.05976151652,
          29871.34397074611,
          34375.62227033039,
          63686.397149314995,
          112774.14192952568,
          278627.0211310068,
          386867.7797957511
         ],
         "yaxis": "y"
        },
        {
         "line": {
          "color": "blue",
          "shape": "spline",
          "smoothing": 1.3,
          "width": 2
         },
         "marker": {
          "color": "blue",
          "size": 6
         },
         "mode": "lines+markers+text",
         "name": "Actual Revenue",
         "text": [
          "$136,040",
          "$152,568",
          "$205,304",
          "$531,320",
          "$1,301,528",
          "$1,668,008",
          "$2,747,296",
          "$2,735,784",
          "$1,416,512",
          "$629,784",
          "$231,016",
          "$176,624",
          "$119,824",
          "$171,088",
          "$277,672",
          "$357,648",
          "$1,162,520",
          "$1,670,368",
          "$2,619,256",
          "$2,426,600",
          "$1,193,872",
          "$599,720",
          "$252,944",
          "$136,992",
          "$112,472",
          "$132,464",
          "$190,320",
          "$448,632",
          "$946,704",
          "$1,951,472",
          "$2,965,008",
          "$1,593,720"
         ],
         "textfont": {
          "color": "blue",
          "size": 9
         },
         "textposition": "top center",
         "type": "scatter",
         "x": [
          "2023-01-31T00:00:00.000000000",
          "2023-02-28T00:00:00.000000000",
          "2023-03-31T00:00:00.000000000",
          "2023-04-30T00:00:00.000000000",
          "2023-05-31T00:00:00.000000000",
          "2023-06-30T00:00:00.000000000",
          "2023-07-31T00:00:00.000000000",
          "2023-08-31T00:00:00.000000000",
          "2023-09-30T00:00:00.000000000",
          "2023-10-31T00:00:00.000000000",
          "2023-11-30T00:00:00.000000000",
          "2023-12-31T00:00:00.000000000",
          "2024-01-31T00:00:00.000000000",
          "2024-02-29T00:00:00.000000000",
          "2024-03-31T00:00:00.000000000",
          "2024-04-30T00:00:00.000000000",
          "2024-05-31T00:00:00.000000000",
          "2024-06-30T00:00:00.000000000",
          "2024-07-31T00:00:00.000000000",
          "2024-08-31T00:00:00.000000000",
          "2024-09-30T00:00:00.000000000",
          "2024-10-31T00:00:00.000000000",
          "2024-11-30T00:00:00.000000000",
          "2024-12-31T00:00:00.000000000",
          "2025-01-31T00:00:00.000000000",
          "2025-02-28T00:00:00.000000000",
          "2025-03-31T00:00:00.000000000",
          "2025-04-30T00:00:00.000000000",
          "2025-05-31T00:00:00.000000000",
          "2025-06-30T00:00:00.000000000",
          "2025-07-31T00:00:00.000000000",
          "2025-08-31T00:00:00.000000000"
         ],
         "xaxis": "x2",
         "y": {
          "bdata": "AAAAAECbAEEAAAAAwJ8CQQAAAADADwlBAAAAAPA2IEEAAAAAGNwzQQAAAACoczlBAAAAAND1REEAAAAAVN9EQQAAAABAnTVBAAAAADA4I0EAAAAAQDMMQQAAAACAjwVBAAAAAABB/UAAAAAAgOIEQQAAAACg8hBBAAAAAEDUFUEAAAAAGL0xQQAAAADgfDlBAAAAALz7Q0EAAAAAdINCQQAAAACQNzJBAAAAAFBNIkEAAAAAgOAOQQAAAAAAuQBBAAAAAIB1+0AAAAAAgCsAQQAAAACAOwdBAAAAAOBhG0EAAAAAIOQsQQAAAADwxj1BAAAAAAifRkEAAAAAeFE4QQ==",
          "dtype": "f8"
         },
         "yaxis": "y2"
        },
        {
         "line": {
          "color": "red",
          "dash": "dot",
          "shape": "spline",
          "smoothing": 1.3,
          "width": 2
         },
         "marker": {
          "color": "red",
          "size": 6
         },
         "mode": "lines+markers+text",
         "name": "Forecast Revenue",
         "text": [
          "",
          "$1,693,458",
          "$927,045",
          "$523,640",
          "$286,656",
          "$238,970",
          "$275,004",
          "$509,491",
          "$902,193",
          "$2,229,016",
          "$3,094,942"
         ],
         "textfont": {
          "color": "red",
          "size": 9
         },
         "textposition": "top center",
         "type": "scatter",
         "x": [
          "2025-08-31T00:00:00",
          "2025-09-30T00:00:00",
          "2025-10-31T00:00:00",
          "2025-11-30T00:00:00",
          "2025-12-31T00:00:00",
          "2026-01-31T00:00:00",
          "2026-02-28T00:00:00",
          "2026-03-31T00:00:00",
          "2026-04-30T00:00:00",
          "2026-05-31T00:00:00",
          "2026-06-30T00:00:00"
         ],
         "xaxis": "x2",
         "y": [
          1593720,
          1693458.8807961133,
          927045.2541784144,
          523640.2489121114,
          286656.47809213214,
          238970.7517659689,
          275004.9781626431,
          509491.17719451996,
          902193.1354362054,
          2229016.1690480546,
          3094942.2383660087
         ],
         "yaxis": "y2"
        }
       ],
       "layout": {
        "annotations": [
         {
          "font": {
           "size": 16
          },
          "showarrow": false,
          "text": "Current Month Sales",
          "x": 0.14444444444444446,
          "xanchor": "center",
          "xref": "paper",
          "y": 1,
          "yanchor": "bottom",
          "yref": "paper"
         },
         {
          "font": {
           "size": 16
          },
          "showarrow": false,
          "text": "Next Month Forecast Sales",
          "x": 0.5,
          "xanchor": "center",
          "xref": "paper",
          "y": 1,
          "yanchor": "bottom",
          "yref": "paper"
         },
         {
          "font": {
           "size": 16
          },
          "showarrow": false,
          "text": "Sales Growth",
          "x": 0.8555555555555556,
          "xanchor": "center",
          "xref": "paper",
          "y": 1,
          "yanchor": "bottom",
          "yref": "paper"
         },
         {
          "font": {
           "size": 16
          },
          "showarrow": false,
          "text": "Current Month Revenue",
          "x": 0.14444444444444446,
          "xanchor": "center",
          "xref": "paper",
          "y": 0.73,
          "yanchor": "bottom",
          "yref": "paper"
         },
         {
          "font": {
           "size": 16
          },
          "showarrow": false,
          "text": "Next Month Forecast Revenue",
          "x": 0.5,
          "xanchor": "center",
          "xref": "paper",
          "y": 0.73,
          "yanchor": "bottom",
          "yref": "paper"
         },
         {
          "font": {
           "size": 16
          },
          "showarrow": false,
          "text": "Revenue Growth",
          "x": 0.8555555555555556,
          "xanchor": "center",
          "xref": "paper",
          "y": 0.73,
          "yanchor": "bottom",
          "yref": "paper"
         },
         {
          "font": {
           "size": 16
          },
          "showarrow": false,
          "text": "Ferry Sales Forecast",
          "x": 0.5,
          "xanchor": "center",
          "xref": "paper",
          "y": 0.46,
          "yanchor": "bottom",
          "yref": "paper"
         },
         {
          "font": {
           "size": 16
          },
          "showarrow": false,
          "text": "Ferry Revenue Forecast - Monthly Data (Ticket Price: $8 CAD)",
          "x": 0.5,
          "xanchor": "center",
          "xref": "paper",
          "y": 0.19,
          "yanchor": "bottom",
          "yref": "paper"
         }
        ],
        "font": {
         "color": "#2c3e50",
         "family": "Arial",
         "size": 11
        },
        "height": 1400,
        "legend": {
         "bgcolor": "rgba(255,255,255,0.9)",
         "bordercolor": "gray",
         "borderwidth": 1,
         "orientation": "h",
         "x": 0.5,
         "xanchor": "center",
         "y": -0.05,
         "yanchor": "top"
        },
        "margin": {
         "b": 80,
         "l": 60,
         "r": 60,
         "t": 100
        },
        "paper_bgcolor": "#f8f9fa",
        "plot_bgcolor": "white",
        "showlegend": true,
        "template": {
         "data": {
          "bar": [
           {
            "error_x": {
             "color": "#2a3f5f"
            },
            "error_y": {
             "color": "#2a3f5f"
            },
            "marker": {
             "line": {
              "color": "#E5ECF6",
              "width": 0.5
             },
             "pattern": {
              "fillmode": "overlay",
              "size": 10,
              "solidity": 0.2
             }
            },
            "type": "bar"
           }
          ],
          "barpolar": [
           {
            "marker": {
             "line": {
              "color": "#E5ECF6",
              "width": 0.5
             },
             "pattern": {
              "fillmode": "overlay",
              "size": 10,
              "solidity": 0.2
             }
            },
            "type": "barpolar"
           }
          ],
          "carpet": [
           {
            "aaxis": {
             "endlinecolor": "#2a3f5f",
             "gridcolor": "white",
             "linecolor": "white",
             "minorgridcolor": "white",
             "startlinecolor": "#2a3f5f"
            },
            "baxis": {
             "endlinecolor": "#2a3f5f",
             "gridcolor": "white",
             "linecolor": "white",
             "minorgridcolor": "white",
             "startlinecolor": "#2a3f5f"
            },
            "type": "carpet"
           }
          ],
          "choropleth": [
           {
            "colorbar": {
             "outlinewidth": 0,
             "ticks": ""
            },
            "type": "choropleth"
           }
          ],
          "contour": [
           {
            "colorbar": {
             "outlinewidth": 0,
             "ticks": ""
            },
            "colorscale": [
             [
              0,
              "#0d0887"
             ],
             [
              0.1111111111111111,
              "#46039f"
             ],
             [
              0.2222222222222222,
              "#7201a8"
             ],
             [
              0.3333333333333333,
              "#9c179e"
             ],
             [
              0.4444444444444444,
              "#bd3786"
             ],
             [
              0.5555555555555556,
              "#d8576b"
             ],
             [
              0.6666666666666666,
              "#ed7953"
             ],
             [
              0.7777777777777778,
              "#fb9f3a"
             ],
             [
              0.8888888888888888,
              "#fdca26"
             ],
             [
              1,
              "#f0f921"
             ]
            ],
            "type": "contour"
           }
          ],
          "contourcarpet": [
           {
            "colorbar": {
             "outlinewidth": 0,
             "ticks": ""
            },
            "type": "contourcarpet"
           }
          ],
          "heatmap": [
           {
            "colorbar": {
             "outlinewidth": 0,
             "ticks": ""
            },
            "colorscale": [
             [
              0,
              "#0d0887"
             ],
             [
              0.1111111111111111,
              "#46039f"
             ],
             [
              0.2222222222222222,
              "#7201a8"
             ],
             [
              0.3333333333333333,
              "#9c179e"
             ],
             [
              0.4444444444444444,
              "#bd3786"
             ],
             [
              0.5555555555555556,
              "#d8576b"
             ],
             [
              0.6666666666666666,
              "#ed7953"
             ],
             [
              0.7777777777777778,
              "#fb9f3a"
             ],
             [
              0.8888888888888888,
              "#fdca26"
             ],
             [
              1,
              "#f0f921"
             ]
            ],
            "type": "heatmap"
           }
          ],
          "histogram": [
           {
            "marker": {
             "pattern": {
              "fillmode": "overlay",
              "size": 10,
              "solidity": 0.2
             }
            },
            "type": "histogram"
           }
          ],
          "histogram2d": [
           {
            "colorbar": {
             "outlinewidth": 0,
             "ticks": ""
            },
            "colorscale": [
             [
              0,
              "#0d0887"
             ],
             [
              0.1111111111111111,
              "#46039f"
             ],
             [
              0.2222222222222222,
              "#7201a8"
             ],
             [
              0.3333333333333333,
              "#9c179e"
             ],
             [
              0.4444444444444444,
              "#bd3786"
             ],
             [
              0.5555555555555556,
              "#d8576b"
             ],
             [
              0.6666666666666666,
              "#ed7953"
             ],
             [
              0.7777777777777778,
              "#fb9f3a"
             ],
             [
              0.8888888888888888,
              "#fdca26"
             ],
             [
              1,
              "#f0f921"
             ]
            ],
            "type": "histogram2d"
           }
          ],
          "histogram2dcontour": [
           {
            "colorbar": {
             "outlinewidth": 0,
             "ticks": ""
            },
            "colorscale": [
             [
              0,
              "#0d0887"
             ],
             [
              0.1111111111111111,
              "#46039f"
             ],
             [
              0.2222222222222222,
              "#7201a8"
             ],
             [
              0.3333333333333333,
              "#9c179e"
             ],
             [
              0.4444444444444444,
              "#bd3786"
             ],
             [
              0.5555555555555556,
              "#d8576b"
             ],
             [
              0.6666666666666666,
              "#ed7953"
             ],
             [
              0.7777777777777778,
              "#fb9f3a"
             ],
             [
              0.8888888888888888,
              "#fdca26"
             ],
             [
              1,
              "#f0f921"
             ]
            ],
            "type": "histogram2dcontour"
           }
          ],
          "mesh3d": [
           {
            "colorbar": {
             "outlinewidth": 0,
             "ticks": ""
            },
            "type": "mesh3d"
           }
          ],
          "parcoords": [
           {
            "line": {
             "colorbar": {
              "outlinewidth": 0,
              "ticks": ""
             }
            },
            "type": "parcoords"
           }
          ],
          "pie": [
           {
            "automargin": true,
            "type": "pie"
           }
          ],
          "scatter": [
           {
            "fillpattern": {
             "fillmode": "overlay",
             "size": 10,
             "solidity": 0.2
            },
            "type": "scatter"
           }
          ],
          "scatter3d": [
           {
            "line": {
             "colorbar": {
              "outlinewidth": 0,
              "ticks": ""
             }
            },
            "marker": {
             "colorbar": {
              "outlinewidth": 0,
              "ticks": ""
             }
            },
            "type": "scatter3d"
           }
          ],
          "scattercarpet": [
           {
            "marker": {
             "colorbar": {
              "outlinewidth": 0,
              "ticks": ""
             }
            },
            "type": "scattercarpet"
           }
          ],
          "scattergeo": [
           {
            "marker": {
             "colorbar": {
              "outlinewidth": 0,
              "ticks": ""
             }
            },
            "type": "scattergeo"
           }
          ],
          "scattergl": [
           {
            "marker": {
             "colorbar": {
              "outlinewidth": 0,
              "ticks": ""
             }
            },
            "type": "scattergl"
           }
          ],
          "scattermap": [
           {
            "marker": {
             "colorbar": {
              "outlinewidth": 0,
              "ticks": ""
             }
            },
            "type": "scattermap"
           }
          ],
          "scattermapbox": [
           {
            "marker": {
             "colorbar": {
              "outlinewidth": 0,
              "ticks": ""
             }
            },
            "type": "scattermapbox"
           }
          ],
          "scatterpolar": [
           {
            "marker": {
             "colorbar": {
              "outlinewidth": 0,
              "ticks": ""
             }
            },
            "type": "scatterpolar"
           }
          ],
          "scatterpolargl": [
           {
            "marker": {
             "colorbar": {
              "outlinewidth": 0,
              "ticks": ""
             }
            },
            "type": "scatterpolargl"
           }
          ],
          "scatterternary": [
           {
            "marker": {
             "colorbar": {
              "outlinewidth": 0,
              "ticks": ""
             }
            },
            "type": "scatterternary"
           }
          ],
          "surface": [
           {
            "colorbar": {
             "outlinewidth": 0,
             "ticks": ""
            },
            "colorscale": [
             [
              0,
              "#0d0887"
             ],
             [
              0.1111111111111111,
              "#46039f"
             ],
             [
              0.2222222222222222,
              "#7201a8"
             ],
             [
              0.3333333333333333,
              "#9c179e"
             ],
             [
              0.4444444444444444,
              "#bd3786"
             ],
             [
              0.5555555555555556,
              "#d8576b"
             ],
             [
              0.6666666666666666,
              "#ed7953"
             ],
             [
              0.7777777777777778,
              "#fb9f3a"
             ],
             [
              0.8888888888888888,
              "#fdca26"
             ],
             [
              1,
              "#f0f921"
             ]
            ],
            "type": "surface"
           }
          ],
          "table": [
           {
            "cells": {
             "fill": {
              "color": "#EBF0F8"
             },
             "line": {
              "color": "white"
             }
            },
            "header": {
             "fill": {
              "color": "#C8D4E3"
             },
             "line": {
              "color": "white"
             }
            },
            "type": "table"
           }
          ]
         },
         "layout": {
          "annotationdefaults": {
           "arrowcolor": "#2a3f5f",
           "arrowhead": 0,
           "arrowwidth": 1
          },
          "autotypenumbers": "strict",
          "coloraxis": {
           "colorbar": {
            "outlinewidth": 0,
            "ticks": ""
           }
          },
          "colorscale": {
           "diverging": [
            [
             0,
             "#8e0152"
            ],
            [
             0.1,
             "#c51b7d"
            ],
            [
             0.2,
             "#de77ae"
            ],
            [
             0.3,
             "#f1b6da"
            ],
            [
             0.4,
             "#fde0ef"
            ],
            [
             0.5,
             "#f7f7f7"
            ],
            [
             0.6,
             "#e6f5d0"
            ],
            [
             0.7,
             "#b8e186"
            ],
            [
             0.8,
             "#7fbc41"
            ],
            [
             0.9,
             "#4d9221"
            ],
            [
             1,
             "#276419"
            ]
           ],
           "sequential": [
            [
             0,
             "#0d0887"
            ],
            [
             0.1111111111111111,
             "#46039f"
            ],
            [
             0.2222222222222222,
             "#7201a8"
            ],
            [
             0.3333333333333333,
             "#9c179e"
            ],
            [
             0.4444444444444444,
             "#bd3786"
            ],
            [
             0.5555555555555556,
             "#d8576b"
            ],
            [
             0.6666666666666666,
             "#ed7953"
            ],
            [
             0.7777777777777778,
             "#fb9f3a"
            ],
            [
             0.8888888888888888,
             "#fdca26"
            ],
            [
             1,
             "#f0f921"
            ]
           ],
           "sequentialminus": [
            [
             0,
             "#0d0887"
            ],
            [
             0.1111111111111111,
             "#46039f"
            ],
            [
             0.2222222222222222,
             "#7201a8"
            ],
            [
             0.3333333333333333,
             "#9c179e"
            ],
            [
             0.4444444444444444,
             "#bd3786"
            ],
            [
             0.5555555555555556,
             "#d8576b"
            ],
            [
             0.6666666666666666,
             "#ed7953"
            ],
            [
             0.7777777777777778,
             "#fb9f3a"
            ],
            [
             0.8888888888888888,
             "#fdca26"
            ],
            [
             1,
             "#f0f921"
            ]
           ]
          },
          "colorway": [
           "#636efa",
           "#EF553B",
           "#00cc96",
           "#ab63fa",
           "#FFA15A",
           "#19d3f3",
           "#FF6692",
           "#B6E880",
           "#FF97FF",
           "#FECB52"
          ],
          "font": {
           "color": "#2a3f5f"
          },
          "geo": {
           "bgcolor": "white",
           "lakecolor": "white",
           "landcolor": "#E5ECF6",
           "showlakes": true,
           "showland": true,
           "subunitcolor": "white"
          },
          "hoverlabel": {
           "align": "left"
          },
          "hovermode": "closest",
          "mapbox": {
           "style": "light"
          },
          "paper_bgcolor": "white",
          "plot_bgcolor": "#E5ECF6",
          "polar": {
           "angularaxis": {
            "gridcolor": "white",
            "linecolor": "white",
            "ticks": ""
           },
           "bgcolor": "#E5ECF6",
           "radialaxis": {
            "gridcolor": "white",
            "linecolor": "white",
            "ticks": ""
           }
          },
          "scene": {
           "xaxis": {
            "backgroundcolor": "#E5ECF6",
            "gridcolor": "white",
            "gridwidth": 2,
            "linecolor": "white",
            "showbackground": true,
            "ticks": "",
            "zerolinecolor": "white"
           },
           "yaxis": {
            "backgroundcolor": "#E5ECF6",
            "gridcolor": "white",
            "gridwidth": 2,
            "linecolor": "white",
            "showbackground": true,
            "ticks": "",
            "zerolinecolor": "white"
           },
           "zaxis": {
            "backgroundcolor": "#E5ECF6",
            "gridcolor": "white",
            "gridwidth": 2,
            "linecolor": "white",
            "showbackground": true,
            "ticks": "",
            "zerolinecolor": "white"
           }
          },
          "shapedefaults": {
           "line": {
            "color": "#2a3f5f"
           }
          },
          "ternary": {
           "aaxis": {
            "gridcolor": "white",
            "linecolor": "white",
            "ticks": ""
           },
           "baxis": {
            "gridcolor": "white",
            "linecolor": "white",
            "ticks": ""
           },
           "bgcolor": "#E5ECF6",
           "caxis": {
            "gridcolor": "white",
            "linecolor": "white",
            "ticks": ""
           }
          },
          "title": {
           "x": 0.05
          },
          "xaxis": {
           "automargin": true,
           "gridcolor": "white",
           "linecolor": "white",
           "ticks": "",
           "title": {
            "standoff": 15
           },
           "zerolinecolor": "white",
           "zerolinewidth": 2
          },
          "yaxis": {
           "automargin": true,
           "gridcolor": "white",
           "linecolor": "white",
           "ticks": "",
           "title": {
            "standoff": 15
           },
           "zerolinecolor": "white",
           "zerolinewidth": 2
          }
         }
        },
        "title": {
         "font": {
          "color": "#2c3e50",
          "family": "Arial Black",
          "size": 24
         },
         "text": "<b>Ferry Sales & Revenue Executive Dashboard</b><br><sub>Complete Analytics & KPI Suite</sub>",
         "x": 0.5,
         "y": 0.98
        },
        "width": 1600,
        "xaxis": {
         "anchor": "y",
         "domain": [
          0,
          1
         ],
         "title": {
          "text": "Date"
         }
        },
        "xaxis2": {
         "anchor": "y2",
         "domain": [
          0,
          1
         ],
         "title": {
          "text": "Date"
         }
        },
        "yaxis": {
         "anchor": "x",
         "domain": [
          0.27,
          0.46
         ],
         "tickformat": ",.0f",
         "title": {
          "text": "Sales Count"
         }
        },
        "yaxis2": {
         "anchor": "x2",
         "domain": [
          0,
          0.19
         ],
         "tickformat": "$,.0f",
         "title": {
          "text": "Revenue (CAD)"
         }
        }
       }
      }
     },
     "metadata": {},
     "output_type": "display_data"
    },
    {
     "name": "stdout",
     "output_type": "stream",
     "text": [
      "\n",
      "======================================================================\n",
      "FERRY OPERATIONS - EXECUTIVE KPI SUMMARY\n",
      "======================================================================\n",
      "📊 CURRENT PERFORMANCE:\n",
      "   Current Month Sales: 199,215 tickets\n",
      "   Current Month Revenue: $1,593,720 CAD\n",
      "   Month-over-Month Growth: -46.2%\n",
      "\n",
      "🔮 NEXT MONTH FORECAST:\n",
      "   Forecasted Sales: 211,682 tickets\n",
      "   Forecasted Revenue: $1,693,459 CAD\n",
      "   Expected Change: +6.3% sales, +6.3% revenue\n",
      "\n",
      "💰 KEY METRICS:\n",
      "   Average Ticket Price: $8.00 CAD\n",
      "   Revenue per Ticket: $8.00 CAD\n",
      "======================================================================\n"
     ]
    }
   ],
   "source": [
    "import plotly.graph_objects as go\n",
    "from plotly.subplots import make_subplots\n",
    "import pandas as pd\n",
    "\n",
    "# Set ticket price\n",
    "ticket_price = 8.0\n",
    "\n",
    "# Calculate revenue\n",
    "df_revenue = df.copy()\n",
    "df_revenue['Revenue'] = df_revenue['Sales Count'] * ticket_price\n",
    "\n",
    "forecast_revenue = forecast.copy()\n",
    "forecast_revenue['Revenue'] = forecast_revenue['yhat'] * ticket_price\n",
    "\n",
    "# Get KPI values (your original function)\n",
    "def get_kpis():\n",
    "    kpis = {}\n",
    "    last_month = df_revenue['Date'].max()\n",
    "    last_data = df_revenue[df_revenue['Date'] == last_month]\n",
    "    kpis['this_month_sales'] = last_data['Sales Count'].iloc[0]\n",
    "    kpis['this_month_revenue'] = last_data['Revenue'].iloc[0]\n",
    "    kpis['this_month_label'] = f\"Latest ({last_month.strftime('%b %Y')})\"\n",
    "    \n",
    "    next_month_forecast = forecast_revenue.iloc[0]\n",
    "    kpis['next_month_sales'] = int(next_month_forecast['yhat'])\n",
    "    kpis['next_month_revenue'] = next_month_forecast['Revenue']\n",
    "    \n",
    "    if len(df_revenue) >= 2:\n",
    "        prev_month = df_revenue.iloc[-2]\n",
    "        current_month_data = df_revenue.iloc[-1]\n",
    "        kpis['prev_month_sales'] = prev_month['Sales Count']\n",
    "        kpis['prev_month_revenue'] = prev_month['Revenue']\n",
    "        kpis['sales_growth'] = ((current_month_data['Sales Count'] - prev_month['Sales Count']) / prev_month['Sales Count']) * 100\n",
    "        kpis['revenue_growth'] = ((current_month_data['Revenue'] - prev_month['Revenue']) / prev_month['Revenue']) * 100\n",
    "    else:\n",
    "        kpis['prev_month_sales'] = kpis['this_month_sales']\n",
    "        kpis['prev_month_revenue'] = kpis['this_month_revenue']\n",
    "        kpis['sales_growth'] = 0\n",
    "        kpis['revenue_growth'] = 0\n",
    "    \n",
    "    kpis['forecast_sales_change'] = ((kpis['next_month_sales'] - kpis['this_month_sales']) / kpis['this_month_sales']) * 100\n",
    "    kpis['forecast_revenue_change'] = ((kpis['next_month_revenue'] - kpis['this_month_revenue']) / kpis['this_month_revenue']) * 100\n",
    "    \n",
    "    return kpis\n",
    "\n",
    "kpis = get_kpis()\n",
    "\n",
    "# Create layout with KPIs at top, then your charts\n",
    "fig = make_subplots(\n",
    "    rows=4, cols=3,\n",
    "    specs=[\n",
    "        # Row 1: All 6 KPIs (your complete KPI dashboard)\n",
    "        [{\"type\": \"indicator\"}, {\"type\": \"indicator\"}, {\"type\": \"indicator\"}],\n",
    "        # Row 2: Second row of KPIs\n",
    "        [{\"type\": \"indicator\"}, {\"type\": \"indicator\"}, {\"type\": \"indicator\"}],\n",
    "        # Row 3: Sales forecast chart (full width)\n",
    "        [{\"colspan\": 3}, None, None],\n",
    "        # Row 4: Revenue forecast chart (full width)  \n",
    "        [{\"colspan\": 3}, None, None]\n",
    "    ],\n",
    "    subplot_titles=[\n",
    "        \"Current Month Sales\", \"Next Month Forecast Sales\", \"Sales Growth\",\n",
    "        \"Current Month Revenue\", \"Next Month Forecast Revenue\", \"Revenue Growth\", \n",
    "        \"Ferry Sales Forecast\", \n",
    "        \"Ferry Revenue Forecast - Monthly Data (Ticket Price: $8 CAD)\"\n",
    "    ],\n",
    "    vertical_spacing=0.08\n",
    ")\n",
    "\n",
    "# Row 1: Sales KPIs (exactly as you had them)\n",
    "# Current Month Sales KPI\n",
    "fig.add_trace(go.Indicator(\n",
    "    mode=\"number+delta\",\n",
    "    value=kpis['this_month_sales'],\n",
    "    number={'suffix': \" tickets\", 'font': {'size': 30}},\n",
    "    delta={'reference': kpis.get('prev_month_sales', kpis['this_month_sales']), 'relative': True, 'position': \"top\"},\n",
    "    title={\"text\": kpis.get('this_month_label', 'Current Month')},\n",
    "), row=1, col=1)\n",
    "\n",
    "# Next Month Forecast Sales KPI\n",
    "fig.add_trace(go.Indicator(\n",
    "    mode=\"number+delta\",\n",
    "    value=kpis['next_month_sales'],\n",
    "    number={'suffix': \" tickets\", 'font': {'size': 30}},\n",
    "    delta={'reference': kpis['this_month_sales'], 'relative': True, 'position': \"top\"},\n",
    "    title={\"text\": \"Next Month Forecast\"},\n",
    "), row=1, col=2)\n",
    "\n",
    "# Sales Growth Gauge (exactly as you had it)\n",
    "fig.add_trace(go.Indicator(\n",
    "    mode=\"number+gauge\",\n",
    "    value=kpis.get('sales_growth', 0),\n",
    "    number={'suffix': \"%\", 'font': {'size': 30}},\n",
    "    gauge={'axis': {'range': [-50, 50]},\n",
    "           'bar': {'color': \"green\" if kpis.get('sales_growth', 0) > 0 else \"red\"},\n",
    "           'steps': [{'range': [-50, 0], 'color': \"lightgray\"},\n",
    "                    {'range': [0, 50], 'color': \"lightgreen\"}],\n",
    "           'threshold': {'line': {'color': \"red\", 'width': 4},\n",
    "                        'thickness': 0.75, 'value': 0}},\n",
    "    title={\"text\": \"Month-over-Month Sales Growth\"},\n",
    "), row=1, col=3)\n",
    "\n",
    "# Row 2: Revenue KPIs (exactly as you had them)\n",
    "# Current Month Revenue KPI\n",
    "fig.add_trace(go.Indicator(\n",
    "    mode=\"number+delta\",\n",
    "    value=kpis['this_month_revenue'],\n",
    "    number={'prefix': \"$\", 'font': {'size': 30}, 'valueformat': ',.0f'},\n",
    "    delta={'reference': kpis.get('prev_month_revenue', kpis['this_month_revenue']), 'relative': True, 'position': \"top\"},\n",
    "    title={\"text\": kpis.get('this_month_label', 'Current Month Revenue')},\n",
    "), row=2, col=1)\n",
    "\n",
    "# Next Month Forecast Revenue KPI\n",
    "fig.add_trace(go.Indicator(\n",
    "    mode=\"number+delta\",\n",
    "    value=kpis['next_month_revenue'],\n",
    "    number={'prefix': \"$\", 'font': {'size': 30}, 'valueformat': ',.0f'},\n",
    "    delta={'reference': kpis['this_month_revenue'], 'relative': True, 'position': \"top\"},\n",
    "    title={\"text\": \"Next Month Forecast Revenue\"},\n",
    "), row=2, col=2)\n",
    "\n",
    "# Revenue Growth Gauge (exactly as you had it)\n",
    "fig.add_trace(go.Indicator(\n",
    "    mode=\"number+gauge\",\n",
    "    value=kpis.get('revenue_growth', 0),\n",
    "    number={'suffix': \"%\", 'font': {'size': 30}},\n",
    "    gauge={'axis': {'range': [-50, 50]},\n",
    "           'bar': {'color': \"green\" if kpis.get('revenue_growth', 0) > 0 else \"red\"},\n",
    "           'steps': [{'range': [-50, 0], 'color': \"lightgray\"},\n",
    "                    {'range': [0, 50], 'color': \"lightgreen\"}],\n",
    "           'threshold': {'line': {'color': \"red\", 'width': 4},\n",
    "                        'thickness': 0.75, 'value': 0}},\n",
    "    title={\"text\": \"Month-over-Month Revenue Growth\"},\n",
    "), row=2, col=3)\n",
    "\n",
    "# Row 3: Your Sales Forecast (exactly as you had it)\n",
    "fig.add_trace(go.Scatter(\n",
    "    x=df['Date'],\n",
    "    y=df['Sales Count'],\n",
    "    mode='lines+markers+text',\n",
    "    text=df['Sales Count'],\n",
    "    textposition='top center',\n",
    "    textfont=dict(size=9, color='blue'),\n",
    "    name='Actual Sales',\n",
    "    line=dict(color='blue', width=2, shape='spline', smoothing=1.3),\n",
    "    marker=dict(size=6, color='blue')\n",
    "), row=3, col=1)\n",
    "\n",
    "# Create seamless connection for forecast\n",
    "last_actual_date = df['Date'].iloc[-1]\n",
    "last_actual_value = df['Sales Count'].iloc[-1]\n",
    "forecast_dates = [last_actual_date] + list(forecast['ds'])\n",
    "forecast_values = [last_actual_value] + list(forecast['yhat'])\n",
    "\n",
    "fig.add_trace(go.Scatter(\n",
    "    x=forecast_dates,\n",
    "    y=forecast_values,\n",
    "    mode='lines+markers+text',\n",
    "    text=[''] + [f\"{int(val)}\" for val in forecast['yhat']],\n",
    "    textposition='top center',\n",
    "    textfont=dict(size=9, color='red'),\n",
    "    name='Forecast',\n",
    "    line=dict(color='red', width=2, dash='dot', shape='spline', smoothing=1.3),\n",
    "    marker=dict(size=6, color='red')\n",
    "), row=3, col=1)\n",
    "\n",
    "# Row 4: Your Revenue Forecast (exactly as you had it)\n",
    "fig.add_trace(go.Scatter(\n",
    "    x=df_revenue['Date'],\n",
    "    y=df_revenue['Revenue'],\n",
    "    mode='lines+markers+text',\n",
    "    text=[f\"${int(val):,}\" for val in df_revenue['Revenue']],\n",
    "    textposition='top center',\n",
    "    textfont=dict(size=9, color='blue'),\n",
    "    name='Actual Revenue',\n",
    "    line=dict(color='blue', width=2, shape='spline', smoothing=1.3),\n",
    "    marker=dict(size=6, color='blue')\n",
    "), row=4, col=1)\n",
    "\n",
    "# Forecast revenue\n",
    "last_actual_revenue = df_revenue['Revenue'].iloc[-1]\n",
    "forecast_revenue_dates = [last_actual_date] + list(forecast_revenue['ds'])\n",
    "forecast_revenue_values = [last_actual_revenue] + list(forecast_revenue['Revenue'])\n",
    "\n",
    "fig.add_trace(go.Scatter(\n",
    "    x=forecast_revenue_dates,\n",
    "    y=forecast_revenue_values,\n",
    "    mode='lines+markers+text',\n",
    "    text=[''] + [f\"${int(val):,}\" for val in forecast_revenue['Revenue']],\n",
    "    textposition='top center',\n",
    "    textfont=dict(size=9, color='red'),\n",
    "    name='Forecast Revenue',\n",
    "    line=dict(color='red', width=2, dash='dot', shape='spline', smoothing=1.3),\n",
    "    marker=dict(size=6, color='red')\n",
    "), row=4, col=1)\n",
    "\n",
    "# Update layout to match your original styling\n",
    "fig.update_layout(\n",
    "    title={\n",
    "        'text': '<b>Ferry Sales & Revenue Executive Dashboard</b><br><sub>Complete Analytics & KPI Suite</sub>',\n",
    "        'x': 0.5,\n",
    "        'y': 0.98,\n",
    "        'font': {'size': 24, 'family': 'Arial Black', 'color': '#2c3e50'}\n",
    "    },\n",
    "    height=1400,\n",
    "    width=1600,\n",
    "    showlegend=True,\n",
    "    paper_bgcolor='#f8f9fa',\n",
    "    plot_bgcolor='white',\n",
    "    font=dict(family=\"Arial\", size=11, color='#2c3e50'),\n",
    "    legend=dict(\n",
    "        orientation=\"h\",\n",
    "        yanchor=\"top\",\n",
    "        y=-0.05,\n",
    "        xanchor=\"center\",\n",
    "        x=0.5,\n",
    "        bgcolor='rgba(255,255,255,0.9)',\n",
    "        bordercolor='gray',\n",
    "        borderwidth=1\n",
    "    ),\n",
    "    margin=dict(t=100, b=80, l=60, r=60)  # Add more bottom margin for legend\n",
    ")\n",
    "\n",
    "# Update axes to match your original formatting\n",
    "fig.update_yaxes(title_text=\"Sales Count\", tickformat=',.0f', row=3, col=1)\n",
    "fig.update_yaxes(title_text=\"Revenue (CAD)\", tickformat='$,.0f', row=4, col=1)\n",
    "fig.update_xaxes(title_text=\"Date\", row=3, col=1)\n",
    "fig.update_xaxes(title_text=\"Date\", row=4, col=1)\n",
    "\n",
    "fig.show()\n",
    "\n",
    "# Your original summary\n",
    "print(\"\\n\" + \"=\"*70)\n",
    "print(\"FERRY OPERATIONS - EXECUTIVE KPI SUMMARY\")\n",
    "print(\"=\"*70)\n",
    "print(f\"📊 CURRENT PERFORMANCE:\")\n",
    "print(f\"   Current Month Sales: {kpis['this_month_sales']:,} tickets\")\n",
    "print(f\"   Current Month Revenue: ${kpis['this_month_revenue']:,.0f} CAD\")\n",
    "print(f\"   Month-over-Month Growth: {kpis.get('sales_growth', 0):+.1f}%\")\n",
    "print()\n",
    "print(f\"🔮 NEXT MONTH FORECAST:\")\n",
    "print(f\"   Forecasted Sales: {kpis['next_month_sales']:,} tickets\")\n",
    "print(f\"   Forecasted Revenue: ${kpis['next_month_revenue']:,.0f} CAD\")\n",
    "print(f\"   Expected Change: {kpis['forecast_sales_change']:+.1f}% sales, {kpis['forecast_revenue_change']:+.1f}% revenue\")\n",
    "print()\n",
    "print(f\"💰 KEY METRICS:\")\n",
    "print(f\"   Average Ticket Price: ${ticket_price:.2f} CAD\")\n",
    "print(f\"   Revenue per Ticket: ${kpis['this_month_revenue']/kpis['this_month_sales']:.2f} CAD\")\n",
    "print(\"=\"*70)"
   ]
  },
  {
   "cell_type": "code",
   "execution_count": null,
   "id": "ac69109f",
   "metadata": {},
   "outputs": [],
   "source": []
  }
 ],
 "metadata": {
  "kernelspec": {
   "display_name": "ferry",
   "language": "python",
   "name": "python3"
  },
  "language_info": {
   "codemirror_mode": {
    "name": "ipython",
    "version": 3
   },
   "file_extension": ".py",
   "mimetype": "text/x-python",
   "name": "python",
   "nbconvert_exporter": "python",
   "pygments_lexer": "ipython3",
   "version": "3.12.0"
  }
 },
 "nbformat": 4,
 "nbformat_minor": 5
}
